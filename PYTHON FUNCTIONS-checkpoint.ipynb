{
 "cells": [
  {
   "cell_type": "code",
   "execution_count": null,
   "id": "d9e5858e",
   "metadata": {},
   "outputs": [],
   "source": [
    "# Write a function that takes two numbers as arguments and returns their sum.\n",
    "# Write a function that takes a list as an argument and returns the sum of all elements in the list.\n",
    "# Write a function that takes a string as an argument and returns the string reversed.\n",
    "# Write a function that takes a list of numbers as an argument and returns the average of the numbers.\n",
    "# Write a function that takes a list of numbers as an argument and returns the median of the numbers.\n",
    "# Write a function that takes a list of numbers as an argument and returns the maximum and minimum numbers in the list.\n",
    "# Write a function that takes a list of strings as an argument and returns the longest string in the list.\n",
    "# Write a function that takes a list of strings as an argument and returns the shortest string in the list.\n",
    "# Write a function that takes a string as an argument and returns the number of vowels in the string.\n",
    "# Write a function that takes a string as an argument and returns the number of words in the string.\n",
    "# Write a function that takes a list of numbers as an argument and returns a new list with only the even numbers.\n",
    "# Write a function that takes a list of numbers as an argument and returns a new list with only the odd numbers.\n",
    "# Write a function that takes a list of strings as an argument and returns a new list with only the strings that start with a vowel.\n",
    "# Write a function that takes a list of strings as an argument and returns a new list with only the strings that are longer than 5 characters.\n",
    "# Write a function that takes a list of strings as an argument and returns a new list with only the strings that contain the letter 'a'.\n",
    "# Write a function that takes a list of strings as an argument and returns a new list with the strings reversed.\n",
    "# Write a function that takes a list of numbers as an argument and returns a new list with the numbers squared.\n",
    "# Write a function that takes a list of numbers as an argument and returns a new list with the numbers cubed.\n",
    "# Write a function that takes a list of numbers as an argument and returns a new list with the absolute values of the numbers.\n",
    "# Write a function that takes a list of strings as an argument and returns a new list with the strings converted to uppercase.\n",
    "# Write a function that takes a list of strings as an argument and returns a new list with the strings converted to lowercase.\n",
    "# Write a function that takes a list of numbers as an argument and returns the product of all the numbers.\n",
    "# Write a function that takes a list of strings as an argument and returns a new list with the strings sorted alphabetically.\n",
    "# Write a function that takes a list of numbers as an argument and returns a new list with the numbers sorted in descending order.\n",
    "# Write a function that takes a list of strings as an argument and returns a new list with the strings sorted by length.\n",
    "# Write a function that takes a list of numbers as an argument and returns the factorial of each number.\n",
    "# Write a function that takes a list of strings as an argument and returns a new list with the strings joined together.\n",
    "# Write a function that takes a list of numbers as an argument and returns a new list with the numbers multiplied by 10.\n",
    "# Write a function that takes a list of numbers as an argument and returns a new list with only the unique numbers.\n",
    "# Write a function that takes a list of strings as an argument and returns a new list with only the unique strings.\n",
    "# Write a function that takes a list of numbers as an argument and returns a new list with the numbers in reverse order.\n",
    "# Write a function that takes a list of strings as an argument and returns a new list with the strings reversed.\n",
    "# Write a function that takes a list of numbers as an argument and returns a new list with the numbers squared if they are even and cubed if they are odd.\n",
    "# Write a function that takes a list of strings as an argument and returns a new list with the strings converted to integers.\n",
    "# Write a function that takes a list of numbers as an argument and returns a new list with only the prime numbers.\n",
    "# Write a function that takes a list of numbers as an argument and returns a new list with the numbers rounded to the nearest integer.\n",
    "# Write a function that takes a list of numbers as an argument and returns a new list with the numbers converted to strings.\n",
    "# Write a function that takes a list of strings as an argument and returns a new list with the strings converted to floats.\n",
    "# Write a function that takes a list of numbers as an argument and returns a new list with the numbers formatted as currency (e.g., \"$1.00\").\n",
    "# Write a function that takes a list of strings as an argument and returns a new list with only the strings that are palindromes.\n",
    "# Write a function that takes a list of numbers as an argument and returns a new list with the numbers formatted as percentages (e.g., \"50%\").\n",
    "# Write a function that takes a list of strings as an argument and returns a new list with the strings formatted as dates (e.g., \"2022-01-01\").\n",
    "# Write a function that takes a list of numbers as an argument and returns a new list with the numbers converted to Roman numerals.\n",
    "# Write a function that takes a list of strings as an argument and returns a new list with the strings converted to title case (e.g., \"hello world\" -> \"Hello World\").\n",
    "# Write a function that takes a list of numbers as an argument and returns a new list with the numbers converted to binary.\n",
    "# Write a function that takes a list of strings as an argument and returns a new list with only the strings that are valid email addresses.\n",
    "# Write a function that takes a list of numbers as an argument and returns a new list with only the numbers that are perfect squares.\n",
    "# Write a function that takes a list of strings as an argument and returns a new list with only the strings that are valid URLs.\n",
    "# Write a function that takes a list of numbers as an argument and returns a new list with only the numbers that are Fibonacci numbers.\n",
    "# # Write a function that takes a list of strings as an argument and returns a new list with only the strings that are valid IP addresses."
   ]
  },
  {
   "cell_type": "code",
   "execution_count": 29,
   "id": "3f818812",
   "metadata": {},
   "outputs": [
    {
     "data": {
      "text/plain": [
       "'Odd'"
      ]
     },
     "execution_count": 29,
     "metadata": {},
     "output_type": "execute_result"
    }
   ],
   "source": [
    "def even_odd(a):\n",
    "    if a%2==0:\n",
    "        return 'Even'\n",
    "    else:\n",
    "        return 'Odd'\n",
    "even_odd(3)"
   ]
  },
  {
   "cell_type": "code",
   "execution_count": 34,
   "id": "677806e3",
   "metadata": {},
   "outputs": [
    {
     "name": "stdout",
     "output_type": "stream",
     "text": [
      "Odd\n",
      "Even\n",
      "Odd\n",
      "Even\n",
      "Odd\n",
      "Even\n",
      "Odd\n",
      "Even\n",
      "Odd\n",
      "Even\n"
     ]
    }
   ],
   "source": [
    "\n",
    "for i in range(1,11):\n",
    "    x = even_odd(i)\n",
    "    print(x)\n"
   ]
  },
  {
   "cell_type": "code",
   "execution_count": 37,
   "id": "4c9cd171",
   "metadata": {},
   "outputs": [
    {
     "data": {
      "text/plain": [
       "7"
      ]
     },
     "execution_count": 37,
     "metadata": {},
     "output_type": "execute_result"
    }
   ],
   "source": [
    "#1: Write a function that takes two numbers as arguments and returns their sum.\n",
    "\n",
    "def add_numbers(a,b):\n",
    "    c = a+b\n",
    "    return c\n",
    "add_numbers(5,2)    "
   ]
  },
  {
   "cell_type": "code",
   "execution_count": 48,
   "id": "1ee226b5",
   "metadata": {},
   "outputs": [
    {
     "data": {
      "text/plain": [
       "10"
      ]
     },
     "execution_count": 48,
     "metadata": {},
     "output_type": "execute_result"
    }
   ],
   "source": [
    "#2:  Write a function that takes a list as an argument and returns the sum of all elements in the list.\n",
    "count=0\n",
    "def add_list(a):\n",
    "    count=0\n",
    "    for i in a:\n",
    "        count+=i\n",
    "    return count\n",
    "add_list([1,2,3,4])"
   ]
  },
  {
   "cell_type": "code",
   "execution_count": 56,
   "id": "837b3dab",
   "metadata": {},
   "outputs": [
    {
     "name": "stdout",
     "output_type": "stream",
     "text": [
      "Gujranwala\n",
      "alawnarjuG\n"
     ]
    }
   ],
   "source": [
    "#3:Write a function that takes a string as an argument and returns the string reversed.\n",
    "def rev(a):\n",
    "    return a[::-1]\n",
    "\n",
    "original = 'Gujranwala'\n",
    "print(original)\n",
    "print(rev(original))\n"
   ]
  },
  {
   "cell_type": "code",
   "execution_count": 65,
   "id": "eeb3d9d4",
   "metadata": {},
   "outputs": [
    {
     "data": {
      "text/plain": [
       "2.5"
      ]
     },
     "execution_count": 65,
     "metadata": {},
     "output_type": "execute_result"
    }
   ],
   "source": [
    "#4: Write a function that takes a list of numbers as an argument and returns the average of the numbers.\n",
    "\n",
    "def average_list(x):\n",
    "    count = 0\n",
    "    for i in x:\n",
    "        count+=i\n",
    "    return (count) / len(x)\n",
    "\n",
    "    \n",
    "average_list([1,2,3,4])"
   ]
  },
  {
   "cell_type": "code",
   "execution_count": null,
   "id": "cc69fd1b",
   "metadata": {},
   "outputs": [],
   "source": [
    "# 5: Write a function that takes a list of numbers as an argument and returns the median of the numbers.\n",
    "\n",
    "def list_median(x):\n",
    "    sorted_values = sorted(x)\n",
    "    if len(x)%2==0:\n",
    "        mid = len(sorted_values) //2\n",
    "        return (sorted_values[mid-1] + sorted_values[mid])\n",
    "        \n",
    "        \n",
    "    \n",
    "\n",
    "    \n",
    "    \n",
    "list_median([1,2,3,4])"
   ]
  },
  {
   "cell_type": "code",
   "execution_count": 34,
   "id": "5858995b",
   "metadata": {},
   "outputs": [
    {
     "data": {
      "text/plain": [
       "(10, -1)"
      ]
     },
     "execution_count": 34,
     "metadata": {},
     "output_type": "execute_result"
    }
   ],
   "source": [
    "#6: Write a function that takes a list of numbers as an argument and returns the maximum and minimum numbers in the list\n",
    "\n",
    "def max_min(x):\n",
    "    min_num=max_num=x[0]\n",
    "    \n",
    "    for i in x:\n",
    "        if i > max_num:\n",
    "            max_num = i\n",
    "        elif i < min_num:\n",
    "            min_num = i\n",
    "    return max_num,min_num\n",
    "        \n",
    "\n",
    "    \n",
    "max_min([5,3,9,2,-1,10])"
   ]
  },
  {
   "cell_type": "code",
   "execution_count": 62,
   "id": "9003b361",
   "metadata": {},
   "outputs": [
    {
     "data": {
      "text/plain": [
       "'pnone number'"
      ]
     },
     "execution_count": 62,
     "metadata": {},
     "output_type": "execute_result"
    }
   ],
   "source": [
    "#7: Write a function that takes a list of strings as an argument and returns the longest string in the list.\n",
    "\n",
    "def largest_string(x):\n",
    "    longest = ''\n",
    "    for i in x:\n",
    "        if len(i) > len(longest):\n",
    "            longest = i\n",
    "    return longest\n",
    "    \n",
    "largest_string(['apple','banana','54326','pnone number','12345567811'])"
   ]
  },
  {
   "cell_type": "code",
   "execution_count": 55,
   "id": "38662657",
   "metadata": {},
   "outputs": [
    {
     "data": {
      "text/plain": [
       "'AI'"
      ]
     },
     "execution_count": 55,
     "metadata": {},
     "output_type": "execute_result"
    }
   ],
   "source": [
    "#8: Write a function that takes a list of strings as an argument and returns the shortest string in the list.\n",
    "\n",
    "def shortest_string(x):\n",
    "    shortest = x[0]\n",
    "    \n",
    "    for i in x:\n",
    "        if len(i) < len(shortest):\n",
    "            shortest = i\n",
    "    return shortest\n",
    "    \n",
    "shortest_string(['AI','Machine Learning','Generative Ai','Deep Learning'])"
   ]
  },
  {
   "cell_type": "code",
   "execution_count": 69,
   "id": "a0668831",
   "metadata": {},
   "outputs": [
    {
     "data": {
      "text/plain": [
       "6"
      ]
     },
     "execution_count": 69,
     "metadata": {},
     "output_type": "execute_result"
    }
   ],
   "source": [
    "#9: Write a function that takes a string as an argument and returns the number of vowels in the string\n",
    "\n",
    "def vowel(x):\n",
    "    vowvels = 'aeiouAEIOU'\n",
    "    count = 0\n",
    "    for char in x:\n",
    "        if char in vowvels:\n",
    "            count +=1\n",
    "            \n",
    "    return count\n",
    "vowel('Machine Learning')"
   ]
  },
  {
   "cell_type": "code",
   "execution_count": 1,
   "id": "0f19293b",
   "metadata": {},
   "outputs": [
    {
     "data": {
      "text/plain": [
       "6"
      ]
     },
     "execution_count": 1,
     "metadata": {},
     "output_type": "execute_result"
    }
   ],
   "source": [
    "#10 Write a function that takes a string as an argument and returns the number of words in the string.\n",
    "\n",
    "def word_count(x):\n",
    "    \n",
    "    word = x.split()\n",
    "    return len(word)\n",
    "    \n",
    "word_count('Machine Learning is a great profession')"
   ]
  },
  {
   "cell_type": "code",
   "execution_count": 48,
   "id": "27d62700",
   "metadata": {},
   "outputs": [
    {
     "data": {
      "text/plain": [
       "[2]"
      ]
     },
     "execution_count": 48,
     "metadata": {},
     "output_type": "execute_result"
    }
   ],
   "source": [
    "#11: Write a function that takes a list of numbers as an argument and returns a new list with only the even numbers.\n",
    "\n",
    "def even_num(x):\n",
    "    even = []\n",
    "    odd = []\n",
    "    for i in x:\n",
    "        if i%2==0:\n",
    "            even.append(i)\n",
    "            return even\n",
    "        else:\n",
    "            odd.append(i)\n",
    "    \n",
    "            return odd\n",
    "     \n",
    "\n",
    "    \n",
    "    \n",
    "even_num([2,3,4,5,7,8])"
   ]
  },
  {
   "cell_type": "code",
   "execution_count": null,
   "id": "a5bdc8d8",
   "metadata": {},
   "outputs": [],
   "source": []
  },
  {
   "cell_type": "code",
   "execution_count": 50,
   "id": "12dfe232",
   "metadata": {},
   "outputs": [
    {
     "data": {
      "text/plain": [
       "['Apple', 'AS', 'AI']"
      ]
     },
     "execution_count": 50,
     "metadata": {},
     "output_type": "execute_result"
    }
   ],
   "source": [
    "#12 Write a function that takes a list of strings as an argument and returns a new list with only the strings that start with A\n",
    "\n",
    "def start_with(X):\n",
    "    st = []\n",
    "    for i in X:\n",
    "        if i.startswith('A'):\n",
    "            st.append(i)\n",
    "    return st\n",
    "    \n",
    "    \n",
    "\n",
    "start_with(['Apple','Machince','AS','AI'])\n"
   ]
  },
  {
   "cell_type": "code",
   "execution_count": 51,
   "id": "aafd2098",
   "metadata": {},
   "outputs": [
    {
     "data": {
      "text/plain": [
       "['Machince']"
      ]
     },
     "execution_count": 51,
     "metadata": {},
     "output_type": "execute_result"
    }
   ],
   "source": [
    "#13 Write a function that takes a list of strings as an argument and returns a new list with only the strings that are longer\n",
    "\n",
    "def long_str(X):\n",
    "    long = []\n",
    "    for i in X:\n",
    "        if len(i)>5:\n",
    "            long.append(i)\n",
    "    return long\n",
    "    \n",
    "    \n",
    "    \n",
    "long_str(['Apple','Machince','AS','AI'])"
   ]
  },
  {
   "cell_type": "code",
   "execution_count": 54,
   "id": "52b77a34",
   "metadata": {},
   "outputs": [
    {
     "data": {
      "text/plain": [
       "['Machince']"
      ]
     },
     "execution_count": 54,
     "metadata": {},
     "output_type": "execute_result"
    }
   ],
   "source": [
    "def string(X):\n",
    "   long =  [s for s in X if len(s)>5]\n",
    "   return long \n",
    "string(['Apple','Machince','AS','AI'])"
   ]
  },
  {
   "cell_type": "code",
   "execution_count": 57,
   "id": "d5eab1a9",
   "metadata": {},
   "outputs": [
    {
     "data": {
      "text/plain": [
       "['Machince', 'as']"
      ]
     },
     "execution_count": 57,
     "metadata": {},
     "output_type": "execute_result"
    }
   ],
   "source": [
    "#15:Write a function that takes a list of strings as an argument \n",
    "# and returns a new list with only the strings that contain the letter 'a'\n",
    "\n",
    "def string(X):\n",
    "  char_a =   [i for i in X if 'a' in i]\n",
    "  return char_a  \n",
    "        \n",
    "string(['Apple','Machince','as','AI'])"
   ]
  },
  {
   "cell_type": "code",
   "execution_count": 67,
   "id": "a952bd08",
   "metadata": {},
   "outputs": [
    {
     "data": {
      "text/plain": [
       "['elppA', 'ecnihcaM', 'sa', 'IA']"
      ]
     },
     "execution_count": 67,
     "metadata": {},
     "output_type": "execute_result"
    }
   ],
   "source": [
    "#16: Write a function that takes a list of strings as an argument and returns a new list with the strings reversed.\n",
    "\n",
    "def reversed_string(X):\n",
    "   string =[i[::-1] for i in X ]\n",
    "   return string \n",
    "        \n",
    "\n",
    "reversed_string(['Apple','Machince','as','AI'])"
   ]
  },
  {
   "cell_type": "code",
   "execution_count": 75,
   "id": "a6fd0b86",
   "metadata": {},
   "outputs": [
    {
     "data": {
      "text/plain": [
       "[4, 9]"
      ]
     },
     "execution_count": 75,
     "metadata": {},
     "output_type": "execute_result"
    }
   ],
   "source": [
    "# 17:Write a function that takes a list of numbers as an argument and returns a new list with the numbers squared.\n",
    "\n",
    "def squared(X):\n",
    "    square = [i*i for i in X]\n",
    "\n",
    "    return square\n",
    "squared([2,3])        "
   ]
  },
  {
   "cell_type": "code",
   "execution_count": 3,
   "id": "64bfbf61",
   "metadata": {},
   "outputs": [
    {
     "data": {
      "text/plain": [
       "['APPLE', 'MACHINCE', 'AS', 'AI']"
      ]
     },
     "execution_count": 3,
     "metadata": {},
     "output_type": "execute_result"
    }
   ],
   "source": [
    "# Write a function that takes a list of strings as an argument and returns a new list with the strings converted to uppercase.\n",
    "def string(X):\n",
    "   \n",
    "  upper =   [i.upper() for i in X ]\n",
    "  return upper  \n",
    "\n",
    "string(['Apple','Machince','as','AI'])"
   ]
  },
  {
   "cell_type": "code",
   "execution_count": 4,
   "id": "d14132ae",
   "metadata": {},
   "outputs": [
    {
     "data": {
      "text/plain": [
       "['apple', 'machince', 'as', 'ai']"
      ]
     },
     "execution_count": 4,
     "metadata": {},
     "output_type": "execute_result"
    }
   ],
   "source": [
    "# Write a function that takes a list of strings as an argument and returns a new list with the strings converted to lowercase.\n",
    "\n",
    "def lower(X):\n",
    "    \n",
    "    lower = [i.lower() for i in X]\n",
    "    return lower\n",
    "\n",
    "lower(['APPLE', 'MACHINCE', 'AS', 'AI'])"
   ]
  },
  {
   "cell_type": "code",
   "execution_count": 8,
   "id": "b60681a2",
   "metadata": {},
   "outputs": [
    {
     "data": {
      "text/plain": [
       "24"
      ]
     },
     "execution_count": 8,
     "metadata": {},
     "output_type": "execute_result"
    }
   ],
   "source": [
    "# Write a function that takes a list of numbers as an argument and returns the product of all the numbers.\n",
    "\n",
    "def product(X):\n",
    "    prodct =1\n",
    "    for i in X:\n",
    "        prodct*=i\n",
    "        \n",
    "    return prodct\n",
    "\n",
    "product([4,2,3])\n",
    "    "
   ]
  },
  {
   "cell_type": "code",
   "execution_count": 11,
   "id": "d9de9ae4",
   "metadata": {},
   "outputs": [
    {
     "data": {
      "text/plain": [
       "['ai', 'apple', 'as', 'machince']"
      ]
     },
     "execution_count": 11,
     "metadata": {},
     "output_type": "execute_result"
    }
   ],
   "source": [
    "\n",
    "# Write a function that takes a list of strings as an argument and returns a new list with the strings sorted alphabetically.\n",
    "def sort_string(X):\n",
    "    \n",
    "    \n",
    "    return sorted(X)\n",
    "sort_string(['apple', 'machince', 'as', 'ai'])\n"
   ]
  },
  {
   "cell_type": "code",
   "execution_count": 12,
   "id": "b4dad1d2",
   "metadata": {},
   "outputs": [
    {
     "data": {
      "text/plain": [
       "[9, 6, 5, 4, 3, 1]"
      ]
     },
     "execution_count": 12,
     "metadata": {},
     "output_type": "execute_result"
    }
   ],
   "source": [
    "# Write a function that takes a list of numbers as an argument and returns a new list with the numbers sorted in descending order.\n",
    "\n",
    "def sort_des(X):\n",
    "    \n",
    "    return sorted(X,reverse=True)\n",
    "\n",
    "sort_des([4,3,5,6,9,1])"
   ]
  },
  {
   "cell_type": "code",
   "execution_count": 15,
   "id": "28f89fa2",
   "metadata": {},
   "outputs": [
    {
     "data": {
      "text/plain": [
       "['AS', 'AI', 'APPLE', 'MACHINCE']"
      ]
     },
     "execution_count": 15,
     "metadata": {},
     "output_type": "execute_result"
    }
   ],
   "source": [
    "# Write a function that takes a list of strings as an argument and returns a new list with the strings sorted by length.\n",
    "\n",
    "def sort_len(X):\n",
    "    \n",
    "    return sorted(X,key=len)\n",
    "\n",
    "\n",
    "sort_len(['APPLE', 'MACHINCE', 'AS', 'AI'])"
   ]
  },
  {
   "cell_type": "code",
   "execution_count": null,
   "id": "620b8b84",
   "metadata": {},
   "outputs": [],
   "source": [
    "# Write a function that takes a list of numbers as an argument and returns the factorial of each number.\n",
    "\n",
    "\n",
    "\n"
   ]
  },
  {
   "cell_type": "code",
   "execution_count": 22,
   "id": "6bb53b17",
   "metadata": {},
   "outputs": [
    {
     "data": {
      "text/plain": [
       "'  ASAIAPPLEMACHINCE'"
      ]
     },
     "execution_count": 22,
     "metadata": {},
     "output_type": "execute_result"
    }
   ],
   "source": [
    "# Write a function that takes a list of strings as an argument and returns a new list with the strings joined together.\n",
    "\n",
    "# def join(X):\n",
    "    \n",
    "#     join_str = [i+i for i in X]\n",
    "    \n",
    "#     return join_str\n",
    "# join(['AS', 'AI', 'APPLE', 'MACHINCE'])\n",
    "\n",
    "def join(X):\n",
    "    st = ''\n",
    "    for i in X:\n",
    "        st+=i\n",
    "    return st\n",
    "join(['AS', 'AI', 'APPLE', 'MACHINCE'])"
   ]
  },
  {
   "cell_type": "code",
   "execution_count": 23,
   "id": "860aac98",
   "metadata": {},
   "outputs": [
    {
     "data": {
      "text/plain": [
       "[20, 30]"
      ]
     },
     "execution_count": 23,
     "metadata": {},
     "output_type": "execute_result"
    }
   ],
   "source": [
    "# Write a function that takes a list of numbers as an argument and returns a new list with the numbers multiplied by 10.\n",
    "\n",
    "def mul_10(X):\n",
    "    \n",
    "    mul = [i*10 for i in X]\n",
    "    \n",
    "    return mul\n",
    "mul_10([2,3])"
   ]
  },
  {
   "cell_type": "code",
   "execution_count": 40,
   "id": "56dbf9b9",
   "metadata": {},
   "outputs": [
    {
     "data": {
      "text/plain": [
       "[2, 4, 3, 5, 7, 6]"
      ]
     },
     "execution_count": 40,
     "metadata": {},
     "output_type": "execute_result"
    }
   ],
   "source": [
    "# Write a function that takes a list of numbers as an argument and returns a new list with only the unique numbers.\n",
    "num =[]\n",
    "def unique(X):\n",
    "    \n",
    "    for i in X:\n",
    "        if i not in num:\n",
    "            num.append(i)\n",
    "    return num\n",
    "unique([2,4,3,5,4,7,6,5,5,2])"
   ]
  },
  {
   "cell_type": "code",
   "execution_count": 41,
   "id": "c9bbba71",
   "metadata": {},
   "outputs": [
    {
     "data": {
      "text/plain": [
       "['Apple', 'Banana', 'Grapes']"
      ]
     },
     "execution_count": 41,
     "metadata": {},
     "output_type": "execute_result"
    }
   ],
   "source": [
    "#29: Write a function that takes a list of strings as an argument and returns a new list with only the unique strings.\n",
    "\n",
    "num =[]\n",
    "def unique(X):\n",
    "    \n",
    "    for i in X:\n",
    "        if i not in num:\n",
    "            num.append(i)\n",
    "    return num\n",
    "unique(['Apple','Banana','Apple','Grapes','Banana'])"
   ]
  },
  {
   "cell_type": "code",
   "execution_count": 15,
   "id": "e6ad2aa8",
   "metadata": {},
   "outputs": [
    {
     "data": {
      "text/plain": [
       "[4, 3, 2, 1]"
      ]
     },
     "execution_count": 15,
     "metadata": {},
     "output_type": "execute_result"
    }
   ],
   "source": [
    "# Write a function that takes a list of numbers as an argument and returns a new list with the numbers in reverse order.\n",
    "\n",
    "def rev(X):\n",
    "     \n",
    "    return X[::-1]\n",
    "\n",
    "rev([1,2,3,4])"
   ]
  },
  {
   "cell_type": "code",
   "execution_count": 16,
   "id": "64f2239b",
   "metadata": {},
   "outputs": [
    {
     "data": {
      "text/plain": [
       "['Banana', 'Grapes', 'Apple', 'Banana', 'Apple']"
      ]
     },
     "execution_count": 16,
     "metadata": {},
     "output_type": "execute_result"
    }
   ],
   "source": [
    "# Write a function that takes a list of strings as an argument and returns a new list with the strings reversed.\n",
    "def st_rev(X):\n",
    "    return X[::-1]\n",
    "    \n",
    "st_rev(['Apple','Banana','Apple','Grapes','Banana'])   "
   ]
  },
  {
   "cell_type": "code",
   "execution_count": 18,
   "id": "f5701198",
   "metadata": {},
   "outputs": [
    {
     "data": {
      "text/plain": [
       "[1, 4, 27, 16]"
      ]
     },
     "execution_count": 18,
     "metadata": {},
     "output_type": "execute_result"
    }
   ],
   "source": [
    "# Write a function that takes a list of numbers as an argument and returns a new list with the numbers squared if they are even and cubed if they are odd\n",
    "\n",
    "def sq_cu(X):\n",
    "    new =[]\n",
    "    for i in X:\n",
    "        if i%2==0:\n",
    "            new.append(i**2) \n",
    "        else:\n",
    "            new.append(i**3)\n",
    "    return new\n",
    "sq_cu([1,2,3,4])"
   ]
  },
  {
   "cell_type": "code",
   "execution_count": 23,
   "id": "c738a89c",
   "metadata": {},
   "outputs": [
    {
     "data": {
      "text/plain": [
       "[2, 3]"
      ]
     },
     "execution_count": 23,
     "metadata": {},
     "output_type": "execute_result"
    }
   ],
   "source": [
    "# Write a function that takes a list of strings as an argument and returns a new list with the strings converted to integers.\n",
    "\n",
    "def converted(X):\n",
    "    con =[]\n",
    "    for i in X:\n",
    "        con.append(int(i))\n",
    "    return con       \n",
    "converted(['2','3'])\n"
   ]
  },
  {
   "cell_type": "code",
   "execution_count": 32,
   "id": "ec257809",
   "metadata": {},
   "outputs": [
    {
     "data": {
      "text/plain": [
       "[2, 4, 6]"
      ]
     },
     "execution_count": 32,
     "metadata": {},
     "output_type": "execute_result"
    }
   ],
   "source": [
    "# Write a function that takes a list of numbers as an argument and returns a new list with only the prime numbers.\n",
    "\n",
    "def prime(X):\n",
    "    primes=[]\n",
    "    for i in X:\n",
    "        if i%2==0:\n",
    "            primes.append(i)\n",
    "    return primes\n",
    "prime([1,2,3,4,5,6])"
   ]
  },
  {
   "cell_type": "code",
   "execution_count": 38,
   "id": "ff864d60",
   "metadata": {},
   "outputs": [
    {
     "data": {
      "text/plain": [
       "[2, 12, 9]"
      ]
     },
     "execution_count": 38,
     "metadata": {},
     "output_type": "execute_result"
    }
   ],
   "source": [
    "# Write a function that takes a list of numbers as an argument and returns a new list with the numbers rounded to the nearest integer.\n",
    "def near_int(X):\n",
    "    new=[]\n",
    "    for i in X:\n",
    "       new.append(round(i)) \n",
    "    return new\n",
    "near_int([2.2,11.6])   \n",
    "\n",
    "\n",
    "def rou(X):\n",
    "    \n",
    "    new = [round(i) for i in X]\n",
    "    \n",
    "    return new\n",
    "\n",
    "rou([2.2,11.6,9.4])  "
   ]
  },
  {
   "cell_type": "code",
   "execution_count": 39,
   "id": "7e875d6a",
   "metadata": {},
   "outputs": [
    {
     "data": {
      "text/plain": [
       "['2', '4', '6']"
      ]
     },
     "execution_count": 39,
     "metadata": {},
     "output_type": "execute_result"
    }
   ],
   "source": [
    "# Write a function that takes a list of numbers as an argument and returns a new list with the numbers converted to strings.\n",
    "\n",
    "def conv_str(X):\n",
    "    new_str = []\n",
    "    \n",
    "    for i in X:\n",
    "        new_str.append(str(i))\n",
    "    return new_str\n",
    "\n",
    "conv_str([2,4,6])\n",
    "    "
   ]
  },
  {
   "cell_type": "code",
   "execution_count": 41,
   "id": "4982e0e9",
   "metadata": {},
   "outputs": [
    {
     "data": {
      "text/plain": [
       "[2.0, 4.0]"
      ]
     },
     "execution_count": 41,
     "metadata": {},
     "output_type": "execute_result"
    }
   ],
   "source": [
    "# Write a function that takes a list of strings as an argument and returns a new list with the strings converted to floats.\n",
    "\n",
    "def conv_str_float(x):\n",
    "    \n",
    "    new =  [float(i) for i in x]\n",
    "    return new\n",
    "conv_str_float(['2','4'])"
   ]
  },
  {
   "cell_type": "code",
   "execution_count": 46,
   "id": "1d8bb882",
   "metadata": {},
   "outputs": [
    {
     "data": {
      "text/plain": [
       "['$10.00', '$20.00']"
      ]
     },
     "execution_count": 46,
     "metadata": {},
     "output_type": "execute_result"
    }
   ],
   "source": [
    "# Write a function that takes a list of numbers as an argument and returns a new list with the numbers formatted as currency(e.g., \"$1.00\").\n",
    "\n",
    "def format_num(x):\n",
    "    new = ['${:.2f}' .format(i) for i in x]\n",
    "    return new\n",
    "\n",
    "format_num([10,20])"
   ]
  },
  {
   "cell_type": "code",
   "execution_count": 51,
   "id": "6048b58c",
   "metadata": {},
   "outputs": [
    {
     "data": {
      "text/plain": [
       "['radar', 'level', 'noon']"
      ]
     },
     "execution_count": 51,
     "metadata": {},
     "output_type": "execute_result"
    }
   ],
   "source": [
    "# Write a function that takes a list of strings as an argument and returns a new list with only the strings that are palindromes.\n",
    "\n",
    "def plaindrom(x):\n",
    "    \n",
    "    new = []\n",
    "    for i in x:\n",
    "        if i ==i[::-1]:\n",
    "            new.append(i)\n",
    "    return new\n",
    "plaindrom([\"radar\", \"hello\", \"level\", \"world\", \"noon\"])\n",
    "\n",
    "# another method\n",
    "def plain(x):\n",
    "    new = [i for i in x if i==i[::-1] ]\n",
    "    return new\n",
    "plain([\"radar\", \"hello\", \"level\", \"world\", \"noon\"])"
   ]
  },
  {
   "cell_type": "code",
   "execution_count": 52,
   "id": "3d763d37",
   "metadata": {},
   "outputs": [
    {
     "data": {
      "text/plain": [
       "['2 %', '4 %']"
      ]
     },
     "execution_count": 52,
     "metadata": {},
     "output_type": "execute_result"
    }
   ],
   "source": [
    "#41 Write a function that takes a list of numbers as an argument and returns a new list with the numbers formatted as percentages (e.g., \"50%\")\n",
    "\n",
    "def formatted(x):\n",
    "    \n",
    "    new = ['{} %'.format(i) for i in x]\n",
    "    return new\n",
    "formatted([2,4])\n",
    "    "
   ]
  },
  {
   "cell_type": "code",
   "execution_count": 56,
   "id": "2cebbb00",
   "metadata": {},
   "outputs": [
    {
     "data": {
      "text/plain": [
       "['0b100', '0b10']"
      ]
     },
     "execution_count": 56,
     "metadata": {},
     "output_type": "execute_result"
    }
   ],
   "source": [
    "def bin_num(x):\n",
    "    num = [bin(i) for i in x]\n",
    "    return num\n",
    "\n",
    "bin_num([4,2])"
   ]
  }
 ],
 "metadata": {
  "kernelspec": {
   "display_name": "Python 3 (ipykernel)",
   "language": "python",
   "name": "python3"
  },
  "language_info": {
   "codemirror_mode": {
    "name": "ipython",
    "version": 3
   },
   "file_extension": ".py",
   "mimetype": "text/x-python",
   "name": "python",
   "nbconvert_exporter": "python",
   "pygments_lexer": "ipython3",
   "version": "3.9.12"
  }
 },
 "nbformat": 4,
 "nbformat_minor": 5
}
