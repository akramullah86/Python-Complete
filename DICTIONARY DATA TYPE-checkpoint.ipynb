{
 "cells": [
  {
   "cell_type": "markdown",
   "id": "02078154",
   "metadata": {},
   "source": [
    "# Dictionary Data Type\n",
    "\n",
    "`Dictionaries are used to store data values in key:value pairs`\n",
    "\n",
    "`A dictionary is a collection which is ordered*, changeable and do not allow duplicates`\n",
    "\n",
    "`Dictionaries are written with curly brackets, and have keys and values`\n",
    "\n",
    "# Changeable\n",
    "\n",
    "`Dictionaries are changeable, meaning that we can change, add or remove items after the dictionary has been created`\n",
    "\n",
    "# Duplicates Not Allowed\n",
    "\n",
    "`Dictionaries cannot have two items with the same key`"
   ]
  },
  {
   "cell_type": "code",
   "execution_count": 11,
   "id": "8a1882e4",
   "metadata": {},
   "outputs": [
    {
     "name": "stdout",
     "output_type": "stream",
     "text": [
      "{'name ': 'Ikram', 'age': 36, 'city': 'Gujranwala'}\n",
      "{'name': 'ibrahim', (1, 2, 3): 2}\n",
      "{'name': 'Ikram', 'age': 36, 'qual': 'MIT', 'subjects': {'comp': 50, 'math': 70, 'phy': 65}}\n",
      "{(1, 2, 3): 1, 'skill': 'Machine Learning'}\n",
      "{'color': 'green'}\n",
      "{'name': 'ibrahim', (1, 2, 3): 2}\n"
     ]
    }
   ],
   "source": [
    "# empty dictionary\n",
    "\n",
    "dic = {}\n",
    "dic\n",
    "type(dic)\n",
    "\n",
    "\n",
    "d1 = {\n",
    "    'name ': 'Ikram',\n",
    "    'age' : 36,\n",
    "    'city' : 'Gujranwala'\n",
    "    \n",
    "}\n",
    "\n",
    "print(d1)\n",
    "\n",
    "d2 = {\n",
    "    'name' : 'Ikram',\n",
    "    'age' : 36,\n",
    "    'qual' : 'MIT',\n",
    "    'subjects' :{\n",
    "        'comp' :50,\n",
    "        'math' : 70,\n",
    "        'phy' :65\n",
    "    }\n",
    "}\n",
    "\n",
    "\n",
    "d3 = {\n",
    "    (1,2,3) : 1,\n",
    "    'skill' : 'Machine Learning'\n",
    "}\n",
    "\n",
    "# duplicate keys\n",
    "\n",
    "d4 = {\n",
    "    'color' : 'red',\n",
    "    'color' : 'green'\n",
    "}\n",
    "\n",
    "d6 = {'name':'ibrahim',(1,2,3):2}\n",
    "print(d6)\n",
    "\n",
    "print(d2)\n",
    "print(d3)\n",
    "print(d4)\n",
    "print(d6)"
   ]
  },
  {
   "cell_type": "code",
   "execution_count": 15,
   "id": "1c897dc4",
   "metadata": {},
   "outputs": [
    {
     "name": "stdout",
     "output_type": "stream",
     "text": [
      "Machine Learning\n",
      "4\n"
     ]
    }
   ],
   "source": [
    "print(d3['skill'])\n",
    "\n",
    "print(len(d2))"
   ]
  },
  {
   "cell_type": "markdown",
   "id": "f52071a5",
   "metadata": {},
   "source": [
    "# Accessing items"
   ]
  },
  {
   "cell_type": "code",
   "execution_count": 24,
   "id": "278f21fd",
   "metadata": {},
   "outputs": [
    {
     "name": "stdout",
     "output_type": "stream",
     "text": [
      "{'name ': 'Ikram', 'age': 36, 'city': 'Gujranwala'}\n",
      "{'name ': 'Ikram', 'age': 36, 'city': 'Gujranwala', 'qual': 'MIT'}\n"
     ]
    },
    {
     "data": {
      "text/plain": [
       "dict_keys(['name ', 'age', 'city', 'qual'])"
      ]
     },
     "execution_count": 24,
     "metadata": {},
     "output_type": "execute_result"
    }
   ],
   "source": [
    "d1 = {\n",
    "    'name ': 'Ikram',\n",
    "    'age' : 36,\n",
    "    'city' : 'Gujranwala'\n",
    "    \n",
    "}\n",
    "\n",
    "print(d1)    # before change\n",
    "\n",
    "d1['qual'] = 'MIT'\n",
    "\n",
    "# after change\n",
    "\n",
    "print(d1)\n",
    "\n",
    "d1.get('age')\n",
    "d1.keys()"
   ]
  },
  {
   "cell_type": "code",
   "execution_count": 26,
   "id": "19719532",
   "metadata": {},
   "outputs": [
    {
     "data": {
      "text/plain": [
       "dict_values(['Ikram', 36, 'Gujranwala', 'MIT'])"
      ]
     },
     "execution_count": 26,
     "metadata": {},
     "output_type": "execute_result"
    }
   ],
   "source": [
    "# Get Values\n",
    "d1.keys()\n",
    "\n",
    "d1.values()"
   ]
  },
  {
   "cell_type": "code",
   "execution_count": 27,
   "id": "a229fdb8",
   "metadata": {},
   "outputs": [
    {
     "name": "stdout",
     "output_type": "stream",
     "text": [
      "{'name ': 'Ikram', 'age': 36, 'city': 'Gujranwala'}\n",
      "{'name ': 'Ikram', 'age': 37, 'city': 'Gujranwala'}\n"
     ]
    }
   ],
   "source": [
    "d1 = {\n",
    "    'name ': 'Ikram',\n",
    "    'age' : 36,\n",
    "    'city' : 'Gujranwala'\n",
    "    \n",
    "}\n",
    "\n",
    "print(d1)    # before change\n",
    "\n",
    "d1['age'] = 37\n",
    "\n",
    "# after change\n",
    "\n",
    "print(d1)"
   ]
  },
  {
   "cell_type": "code",
   "execution_count": 34,
   "id": "a479bd5a",
   "metadata": {},
   "outputs": [
    {
     "name": "stdout",
     "output_type": "stream",
     "text": [
      "{'name ': 'Ikram', 'age': 36, 'city': 'Gujranwala'}\n"
     ]
    },
    {
     "data": {
      "text/plain": [
       "dict_items([('name ', 'Ikram'), ('age', 36), ('city', 'Gujranwala')])"
      ]
     },
     "execution_count": 34,
     "metadata": {},
     "output_type": "execute_result"
    }
   ],
   "source": [
    "# The items() method will return each item in a dictionary, as tuples in a list.\n",
    "\n",
    "d1 = {\n",
    "    'name ': 'Ikram',\n",
    "    'age' : 36,\n",
    "    'city' : 'Gujranwala'\n",
    "    \n",
    "}\n",
    "\n",
    "print(d1)\n",
    "\n",
    "x = d1.items()\n",
    "x"
   ]
  },
  {
   "cell_type": "code",
   "execution_count": 38,
   "id": "6431ed6e",
   "metadata": {},
   "outputs": [
    {
     "name": "stdout",
     "output_type": "stream",
     "text": [
      "yes this key avilable in this data\n",
      "{'model': 2020, 'brand': 'Toyota', 'color': 'white'}\n",
      "{'model': 2020, 'brand': 'Toyota', 'color': 'silver'}\n"
     ]
    }
   ],
   "source": [
    "car = {\n",
    "    'model' : 2020,\n",
    "    'brand' : 'Toyota',\n",
    "    'color' : 'white'\n",
    "}\n",
    "if 'color' in car:\n",
    "    print('yes this key avilable in this data')\n",
    "print(car)\n",
    "\n",
    "car['color'] = 'silver'\n",
    "\n",
    "print(car)"
   ]
  },
  {
   "cell_type": "code",
   "execution_count": 45,
   "id": "00ec3275",
   "metadata": {},
   "outputs": [
    {
     "data": {
      "text/plain": [
       "{'model': 2020, 'brand': 'Honda', 'color': 'white'}"
      ]
     },
     "execution_count": 45,
     "metadata": {},
     "output_type": "execute_result"
    }
   ],
   "source": [
    "# The update() method will update the dictionary with the items from the given argument\n",
    "\n",
    "car = {\n",
    "    'model' : 2020,\n",
    "    'brand' : 'Toyota',\n",
    "    'color' : 'white'\n",
    "}\n",
    "\n",
    "car.update({'price':2000000})\n",
    "car\n",
    "\n",
    "\n",
    "car = {\n",
    "    'model' : 2020,\n",
    "    'brand' : 'Toyota',\n",
    "    'color' : 'white'\n",
    "}\n",
    "\n",
    "car.update({'brand':'Honda'})\n",
    "car"
   ]
  },
  {
   "cell_type": "code",
   "execution_count": 47,
   "id": "cd95a0b6",
   "metadata": {},
   "outputs": [
    {
     "data": {
      "text/plain": [
       "{'model': 2020, 'brand': 'Toyota'}"
      ]
     },
     "execution_count": 47,
     "metadata": {},
     "output_type": "execute_result"
    }
   ],
   "source": [
    "# Removing Items\n",
    "\n",
    "car = {\n",
    "    'model' : 2020,\n",
    "    'brand' : 'Toyota',\n",
    "    'color' : 'white'\n",
    "}\n",
    "\n",
    "car.pop('color')\n",
    "\n",
    "car"
   ]
  },
  {
   "cell_type": "code",
   "execution_count": 48,
   "id": "1a8f12fb",
   "metadata": {},
   "outputs": [
    {
     "data": {
      "text/plain": [
       "{'model': 2020, 'brand': 'Toyota'}"
      ]
     },
     "execution_count": 48,
     "metadata": {},
     "output_type": "execute_result"
    }
   ],
   "source": [
    "car = {\n",
    "    'model' : 2020,\n",
    "    'brand' : 'Toyota',\n",
    "    'color' : 'white'\n",
    "}\n",
    "\n",
    "car.popitem()\n",
    "car"
   ]
  },
  {
   "cell_type": "code",
   "execution_count": null,
   "id": "d232ab21",
   "metadata": {},
   "outputs": [],
   "source": []
  },
  {
   "cell_type": "code",
   "execution_count": null,
   "id": "6d6c359c",
   "metadata": {},
   "outputs": [],
   "source": []
  }
 ],
 "metadata": {
  "kernelspec": {
   "display_name": "Python 3 (ipykernel)",
   "language": "python",
   "name": "python3"
  },
  "language_info": {
   "codemirror_mode": {
    "name": "ipython",
    "version": 3
   },
   "file_extension": ".py",
   "mimetype": "text/x-python",
   "name": "python",
   "nbconvert_exporter": "python",
   "pygments_lexer": "ipython3",
   "version": "3.9.12"
  }
 },
 "nbformat": 4,
 "nbformat_minor": 5
}
