{
 "cells": [
  {
   "cell_type": "markdown",
   "id": "73e84b84",
   "metadata": {},
   "source": [
    "## PRINT FUNCTION"
   ]
  },
  {
   "cell_type": "code",
   "execution_count": 35,
   "id": "097def7f",
   "metadata": {},
   "outputs": [
    {
     "name": "stdout",
     "output_type": "stream",
     "text": [
      "Hello World !\n",
      "Hello World !\n",
      "4\n",
      "11\n",
      "[1, 2, 3, 4, 5]\n",
      "(1, 2, 3)\n",
      "{'one': 1, 'two': 2, 'three': 3}\n",
      "5.5\n",
      "True\n",
      "Hello world-14-False-6.5\n",
      "Hello-World\n"
     ]
    }
   ],
   "source": [
    "# in this program we just to learn how to use print function and what are the purpose of print function \n",
    "# print function is use to show the output in the screen and written in single or double qoute in paranthesis like(\"\") or ('')\n",
    "\n",
    "print(\"Hello World !\")\n",
    "\n",
    "\n",
    "print('Hello World !')\n",
    "\n",
    "\n",
    "# if we use print statement without single or double qoutes it gives error\n",
    "\n",
    "# print(ikram)-------------> it gives error\n",
    "\n",
    "# print is also use to print any kind of data type like\n",
    "\n",
    "print(4)\n",
    "\n",
    "print(5 + 6)\n",
    "\n",
    "print([1,2,3,4,5])\n",
    "\n",
    "print((1,2,3))\n",
    "\n",
    "print({\n",
    "    'one' : 1,\n",
    "    'two' : 2,\n",
    "    'three' : 3\n",
    "})\n",
    "\n",
    "\n",
    "print(5.5)\n",
    "\n",
    "print(True)\n",
    "\n",
    "print('Hello world',14,False,6.5,sep='-')\n",
    "\n",
    "print('Hello',end='-')\n",
    "\n",
    "print('World')\n"
   ]
  },
  {
   "cell_type": "markdown",
   "id": "08a42a0f",
   "metadata": {},
   "source": [
    "## PYTHON COMMENTS AND ESCAPE SEQUENCES"
   ]
  },
  {
   "cell_type": "code",
   "execution_count": 24,
   "id": "a97fb099",
   "metadata": {},
   "outputs": [
    {
     "data": {
      "text/plain": [
       "'\\nThis is a \\nmulti line comments\\n'"
      ]
     },
     "execution_count": 24,
     "metadata": {},
     "output_type": "execute_result"
    }
   ],
   "source": [
    "# COMMENTS\n",
    "# Comments are used to make the code more understandable for programmer.\n",
    "# Comments are not executed by Interpreter.\n",
    "# Comments are ignored by the the python interpreter\n",
    "\n",
    "# METHODS FOR WRITING COMMENTS\n",
    "\n",
    "# There are 2 methods to write comment in Python Language -:\n",
    "\n",
    "# 1- Single Line Comment\n",
    "# 2- Multi Line Comment\n",
    "\n",
    "# Single Line Comment\n",
    "\n",
    "# Single Line comments are the comments which are created in single line only \n",
    "# We use '#' (hash/pound to write single line comment).\n",
    "\n",
    "# Example:\n",
    "\n",
    "# this is a comment.\n",
    "\n",
    "\n",
    "# Multi Line Comment :  \n",
    "# Multi Line comments are the comments \n",
    "# which are created by using multiple lines \n",
    "#they occupy more than one line in the program.\n",
    "\n",
    "\n",
    "## We use \"\"\" ….. Comment …. \"\"\" for writing multi line comment \n",
    "# i.e. (tripe quotes for writing multi-line comments).\n",
    "\n",
    "\n",
    "\"\"\"\n",
    "This is a \n",
    "multi line comments\n",
    "\"\"\"\n",
    "\n",
    "\n",
    "\n",
    "\n"
   ]
  },
  {
   "cell_type": "markdown",
   "id": "2f0c8c63",
   "metadata": {},
   "source": [
    "## ESCAPE SEQUENCES"
   ]
  },
  {
   "cell_type": "code",
   "execution_count": 40,
   "id": "675a14cb",
   "metadata": {},
   "outputs": [
    {
     "name": "stdout",
     "output_type": "stream",
     "text": [
      "Hello\n",
      "\n",
      "I want to become a data scientist\n",
      "C:\n",
      "arry\n",
      "C:\\narry\n",
      "Ikram is \t good boy \n"
     ]
    }
   ],
   "source": [
    "# An Escape Sequence in Python programming language is a sequence of characters.\n",
    "# It doesn’t represent itself when used inside string literal or character.\n",
    "# It is composed of two or more characters starting with backslash \\.\n",
    "\n",
    "# print(\"next line\")\n",
    "print('Hello\\n')\n",
    "\n",
    "print(\"I want to become a data scientist\")\n",
    "\n",
    "print(\"C:\\narry\")\n",
    "\n",
    "print(\"C:\\\\narry\")\n",
    "\n",
    "print(\"Ikram is \\t good boy \")\n",
    "\n",
    "\n",
    "#------------------------- Commonly used Escape Sequences -----------------------\n",
    "\n",
    "#--------------------------------------------------------------------------------\n",
    "#   Escape      :                  Description                                  \n",
    "#   Sequence    :                                                               \n",
    "#--------------------------------------------------------------------------------\n",
    "#      \\n       # Inserts a newline in the text at that point.                  \n",
    "#      \\\\       # Inserts a back slash character in the text at that point.     \n",
    "#      \\\"       # Inserts a double character in the text a that point.          \n",
    "#      \\'       # Inserts a single quote character in the text at that point.   \n",
    "#      \\t       # Inserts a tab in the text at that point.                      \n",
    "#      \\f       # Inserts a form feed in the text at that point.                \n",
    "#      \\r       # Inserts a carriage return in the text at that point.         \n",
    "#      \\b       # Inserts a backspace in the text at that point.                \n",
    "#--------------------------------------------------------------------------------"
   ]
  },
  {
   "cell_type": "markdown",
   "id": "847fec96",
   "metadata": {},
   "source": [
    "## VARIABLES"
   ]
  },
  {
   "cell_type": "code",
   "execution_count": 68,
   "id": "04dadd1f",
   "metadata": {},
   "outputs": [
    {
     "name": "stdout",
     "output_type": "stream",
     "text": [
      "Hello World\n",
      "5\n",
      "[1, 2, 3, 4]\n",
      "ikram\n",
      "ikram\n",
      "IKRAM\n",
      "37\n",
      "30\n",
      "30.6\n",
      "5 [1, 2, 3, 4] 30.6\n",
      "5 car 10.6\n",
      "10 10 10\n",
      "10\n",
      "ibrahim\n"
     ]
    }
   ],
   "source": [
    "# Variables are containers or name are used for storing data values or memory location in a program\n",
    "# Actually, Variable doesn’t hold a value but it’s the name given to any memory address in RAM.\n",
    "\n",
    "# It’s a name of memory location.\n",
    "\n",
    "# In simple words we can say that variable is a container\n",
    "# which contains some kind of information \n",
    "# and whenever we need that information \n",
    "# then we simply use that container or open it.\n",
    "# A variable is created the moment you first assign a value to it.\n",
    "\n",
    "# Rules for Python variables:\n",
    "\n",
    "# A variable name must start with a letter or the underscore character\n",
    "# A variable name cannot start with a number\n",
    "# A variable name can only contain alpha-numeric characters and underscores (A-z, 0-9, and _ )\n",
    "# Variable names are case-sensitive (age, Age and AGE are three different variables)\n",
    "\n",
    "\n",
    "\n",
    "var = 'Hello World'\n",
    "\n",
    "print(var)\n",
    "\n",
    "x = 5\n",
    "\n",
    "print(x)\n",
    "\n",
    "y = [1,2,3,4]\n",
    "\n",
    "print(y)\n",
    "\n",
    "_a = 'ikram'\n",
    "\n",
    "print(_a)\n",
    "\n",
    "my_name = 'ikram'\n",
    "\n",
    "print(my_name)\n",
    "\n",
    "MYNAME = 'IKRAM'\n",
    "\n",
    "print(MYNAME)\n",
    "\n",
    "age = 37\n",
    "\n",
    "print(age)\n",
    "\n",
    "AGE = 30\n",
    "\n",
    "print(AGE)\n",
    "\n",
    "z=30.6\n",
    "\n",
    "print(z)\n",
    "\n",
    "print(x,y,z)\n",
    "\n",
    "# Assign multiple values \n",
    "\n",
    "a,b,c = 5,\"car\",10.6\n",
    "\n",
    "print(a,b,c)\n",
    "\n",
    "# Assign a single value to multiple variables\n",
    "\n",
    "m=n=o=10\n",
    "\n",
    "print(m,n,o)\n",
    "\n",
    "# Static Vs Dynamic Typing\n",
    "# Static Vs Dynamic Binding\n",
    "\n",
    "# static typing\n",
    "\n",
    "# int a = 5  this is not used in python\n",
    "\n",
    "# Dynamic typing\n",
    "\n",
    "a = 5\n",
    "\n",
    "# Dynamic Binding\n",
    "f = 10\n",
    "\n",
    "print(f)\n",
    "\n",
    "f = 'ibrahim'\n",
    "\n",
    "print(f)\n"
   ]
  },
  {
   "cell_type": "markdown",
   "id": "09256026",
   "metadata": {},
   "source": [
    "## DATA TYPES IN PYTHON"
   ]
  },
  {
   "cell_type": "code",
   "execution_count": 72,
   "id": "3c4101e1",
   "metadata": {},
   "outputs": [
    {
     "name": "stdout",
     "output_type": "stream",
     "text": [
      "PAKISTAN\n"
     ]
    }
   ],
   "source": [
    "# TEXT\n",
    "\n",
    "# Text mean string written in sigle or double qoutes\n",
    "\n",
    "x = 'PAKISTAN'\n",
    "\n",
    "print(x)\n"
   ]
  },
  {
   "cell_type": "code",
   "execution_count": 78,
   "id": "40061e20",
   "metadata": {},
   "outputs": [
    {
     "name": "stdout",
     "output_type": "stream",
     "text": [
      "9\n",
      "-15\n",
      "1e+308\n",
      "inf\n"
     ]
    }
   ],
   "source": [
    "# INTEGER\n",
    "\n",
    "# integer represent decimel number without fractional point like (10,5,-2)\n",
    "# Both positive and negative numbers are included\n",
    "\n",
    "x = 9\n",
    "\n",
    "print(x)\n",
    "\n",
    "print(-15)\n",
    "\n",
    "# its maximum rage is (1e308)\n",
    "print(1e308)\n",
    "print(1e309)  # this will gives infinite"
   ]
  },
  {
   "cell_type": "code",
   "execution_count": 81,
   "id": "762a3826",
   "metadata": {},
   "outputs": [
    {
     "name": "stdout",
     "output_type": "stream",
     "text": [
      "3.2\n",
      "-2.4\n",
      "1.7e+308\n",
      "inf\n"
     ]
    }
   ],
   "source": [
    "# FLOAT\n",
    "\n",
    "# float represent decimel number with fractional point like (10.6,5.3,-2.4 etc)\n",
    "# Both positive and negative numbers are included\n",
    "\n",
    "x = 3.2\n",
    "\n",
    "print(x)\n",
    "\n",
    "print(-2.4)\n",
    "\n",
    "# its maximum rage is (1.7e308)\n",
    "print(1.7e308)\n",
    "print(1.7e309)\n"
   ]
  },
  {
   "cell_type": "code",
   "execution_count": 83,
   "id": "49c39956",
   "metadata": {},
   "outputs": [
    {
     "name": "stdout",
     "output_type": "stream",
     "text": [
      "True\n",
      "False\n"
     ]
    }
   ],
   "source": [
    "# BOOLEAN \n",
    "# TRUE/FALSE\n",
    "\n",
    "print(True)\n",
    "\n",
    "print(False)"
   ]
  },
  {
   "cell_type": "code",
   "execution_count": 85,
   "id": "7a6cc1dd",
   "metadata": {},
   "outputs": [
    {
     "name": "stdout",
     "output_type": "stream",
     "text": [
      "(4+7j)\n"
     ]
    }
   ],
   "source": [
    "# COMPLEX\n",
    "\n",
    "print(4+7j)"
   ]
  },
  {
   "cell_type": "code",
   "execution_count": 87,
   "id": "38bceefe",
   "metadata": {},
   "outputs": [
    {
     "name": "stdout",
     "output_type": "stream",
     "text": [
      "[1, 2, 3, 4]\n",
      "['Inter', 'Bsc', 'Msc']\n"
     ]
    }
   ],
   "source": [
    "# LIST\n",
    "\n",
    "x = [1,2,3,4]\n",
    "\n",
    "print(x)\n",
    "\n",
    "y = ['Inter','Bsc','Msc']\n",
    "\n",
    "print(y)"
   ]
  },
  {
   "cell_type": "code",
   "execution_count": 89,
   "id": "673bf514",
   "metadata": {},
   "outputs": [
    {
     "name": "stdout",
     "output_type": "stream",
     "text": [
      "(1, 2, 3, 4)\n",
      "('inter', 'Bsc', 'Msc')\n"
     ]
    }
   ],
   "source": [
    "# TUPLE\n",
    "\n",
    "x = (1,2,3,4)\n",
    "\n",
    "print(x)\n",
    "\n",
    "y = ('inter','Bsc','Msc')\n",
    "\n",
    "print(y)"
   ]
  },
  {
   "cell_type": "code",
   "execution_count": 90,
   "id": "d31def77",
   "metadata": {},
   "outputs": [
    {
     "name": "stdout",
     "output_type": "stream",
     "text": [
      "{1, 2, 3, 4}\n"
     ]
    }
   ],
   "source": [
    "# SET\n",
    "\n",
    "x = {1,2,3,4}\n",
    "\n",
    "print(x)"
   ]
  },
  {
   "cell_type": "code",
   "execution_count": 91,
   "id": "adabdc9d",
   "metadata": {},
   "outputs": [
    {
     "name": "stdout",
     "output_type": "stream",
     "text": [
      "{'name': 'Ikram', 'qual': 'MSC', 'age': 37}\n"
     ]
    }
   ],
   "source": [
    "# DICTIONARY\n",
    "\n",
    "x = {\n",
    "    'name' :'Ikram',\n",
    "    'qual' :'MSC',\n",
    "    'age' :37\n",
    "}\n",
    "\n",
    "print(x)"
   ]
  },
  {
   "cell_type": "code",
   "execution_count": 6,
   "id": "d24c3794",
   "metadata": {},
   "outputs": [
    {
     "name": "stdout",
     "output_type": "stream",
     "text": [
      "None\n"
     ]
    }
   ],
   "source": [
    "# NONE\n",
    "x = None\n",
    "print(x)"
   ]
  },
  {
   "cell_type": "markdown",
   "id": "196ae9ee",
   "metadata": {},
   "source": [
    "## TYPE CASTING / TYPE CONVERSION\n",
    "` -Type casting use to cnvert the data type `\n",
    "\n",
    "` -There are two types of type casting `\n",
    "\n",
    "`Implicit: Convert data type automaticaly by the python interpreter`\n",
    "\n",
    "`Explicit : Convert data type by the programmer `"
   ]
  },
  {
   "cell_type": "code",
   "execution_count": 106,
   "id": "319f08d4",
   "metadata": {},
   "outputs": [
    {
     "name": "stdout",
     "output_type": "stream",
     "text": [
      "20\n",
      "<class 'str'>\n",
      "<class 'int'>\n",
      "20.0\n",
      "<class 'float'>\n",
      "11.5\n",
      "<class 'float'>\n",
      "True\n",
      "[1, 2, 3, 4, 5]\n",
      "<class 'list'>\n",
      "(1, 2, 3, 4, 5)\n",
      "<class 'tuple'>\n"
     ]
    }
   ],
   "source": [
    "x = '20'\n",
    "\n",
    "print(x)\n",
    "\n",
    "print(type(x))\n",
    "\n",
    "x = int(x)\n",
    "print(type(x))\n",
    "\n",
    "x = float(x)\n",
    "\n",
    "print(x)\n",
    "\n",
    "print(type(x))\n",
    "\n",
    "# implicit type conversion\n",
    "\n",
    "a = 6\n",
    "b = 5.5\n",
    "\n",
    "c = a + b\n",
    "\n",
    "print(c)\n",
    "\n",
    "print(type(c))\n",
    "\n",
    "# explicit type conversion\n",
    "\n",
    "x = bool(5)\n",
    "print(x)\n",
    "\n",
    "x = [1,2,3,4,5]\n",
    "\n",
    "print(x)\n",
    "\n",
    "print(type(x))\n",
    "\n",
    "x = tuple(x)\n",
    "\n",
    "print(x)\n",
    "\n",
    "print(type(x))\n",
    "\n"
   ]
  },
  {
   "cell_type": "markdown",
   "id": "7ebd1d4d",
   "metadata": {},
   "source": [
    "## USER INPUT\n",
    "\n",
    "`input function is used in python to take input from the user`"
   ]
  },
  {
   "cell_type": "code",
   "execution_count": null,
   "id": "a58d14c4",
   "metadata": {},
   "outputs": [],
   "source": [
    "input('Enter your email')\n",
    "\n",
    "# store the input value into a variable\n",
    "\n",
    "x = input('Enter the number')\n",
    "\n",
    "print(x)\n",
    "\n",
    "print(type(x))\n",
    "\n",
    "\n",
    "x = int(x)\n",
    "\n",
    "print(x)\n",
    "\n",
    "print(type(x))"
   ]
  },
  {
   "cell_type": "code",
   "execution_count": 3,
   "id": "99e08c22",
   "metadata": {},
   "outputs": [
    {
     "name": "stdout",
     "output_type": "stream",
     "text": [
      " Enter the first number12\n",
      " Enter the second number13\n",
      "25\n",
      "<class 'int'>\n"
     ]
    }
   ],
   "source": [
    "first_num = int(input(' Enter the first number'))\n",
    "\n",
    "second_num = int(input(' #\n",
    "print(type(total))\n",
    "\n"
   ]
  },
  {
   "cell_type": "markdown",
   "id": "9c0e1b82",
   "metadata": {},
   "source": [
    "## OPERATORS\n",
    "\n",
    "`Arithmetic`\n",
    "\n",
    "`Relational / Comparison operators`\n",
    "\n",
    "`Logical`\n",
    "\n",
    "`Bitwise`\n",
    "\n",
    "`Membership`\n",
    "\n",
    "`Identity`\n"
   ]
  },
  {
   "cell_type": "code",
   "execution_count": 11,
   "id": "54ede7c8",
   "metadata": {},
   "outputs": [
    {
     "name": "stdout",
     "output_type": "stream",
     "text": [
      "11\n",
      "-1\n",
      "30\n",
      "2.5\n",
      "2\n",
      "1\n",
      "25\n"
     ]
    }
   ],
   "source": [
    "# Arithmetic Operators\n",
    "\n",
    "# Plus (+)\n",
    "\n",
    "print(5 + 6)\n",
    "\n",
    "# Subtraction (-)\n",
    "\n",
    "print(5 - 6)\n",
    "\n",
    "# Multiplication (*)\n",
    "\n",
    "print(5 * 6)\n",
    "\n",
    "# Division (/)\n",
    "\n",
    "print(5 / 2)\n",
    "\n",
    "# integer division / floor division (//)\n",
    "\n",
    "print(5 // 2)\n",
    "\n",
    "# Modulus / Remainder (%)\n",
    "\n",
    "print(5 % 2)\n",
    "\n",
    "# Exponentiation (**)\n",
    "\n",
    "print(5 ** 2)"
   ]
  },
  {
   "cell_type": "code",
   "execution_count": 13,
   "id": "c08981ee",
   "metadata": {},
   "outputs": [
    {
     "name": "stdout",
     "output_type": "stream",
     "text": [
      "False\n",
      "True\n",
      "False\n",
      "True\n",
      "True\n",
      "False\n"
     ]
    }
   ],
   "source": [
    "# Relational / Comparison Operators\n",
    "\n",
    "# Graeter than (>)\n",
    "\n",
    "print(4>5)\n",
    "\n",
    "# Less than (<)\n",
    "\n",
    "print(4<5)\n",
    "\n",
    "# Geater than equal (>=)\n",
    "\n",
    "print(4>=5)\n",
    "\n",
    "# less than equal (>=)\n",
    "\n",
    "print(4<=5)\n",
    "\n",
    "# Equal\n",
    "\n",
    "print(4==4)\n",
    "\n",
    "# Not Equal\n",
    "\n",
    "print(4!=4)\n",
    "\n",
    "\n"
   ]
  },
  {
   "cell_type": "code",
   "execution_count": 23,
   "id": "598ef81a",
   "metadata": {},
   "outputs": [
    {
     "name": "stdout",
     "output_type": "stream",
     "text": [
      "True\n",
      "0\n",
      "1\n",
      "True\n",
      "1\n",
      "0\n",
      "True\n"
     ]
    }
   ],
   "source": [
    "# Logical Operators\n",
    "\n",
    "# and:absReturns True if both statements are true\n",
    "\n",
    "x = 6\n",
    "\n",
    "print(x<10 and x<8)\n",
    "\n",
    "print(1 and 0)\n",
    "\n",
    "print(1 and 1)\n",
    "\n",
    "# or :Returns True if one of the statements is true\n",
    "\n",
    "x = 9\n",
    "\n",
    "print(x<10 or x<8)\n",
    "\n",
    "print(1 or 0)\n",
    "\n",
    "print(0 or 0)\n",
    "\n",
    "# not :Reverse the result, returns False if the result is true\n",
    "\n",
    "print(not(0 or 0))\n",
    "\n",
    "\n"
   ]
  },
  {
   "cell_type": "code",
   "execution_count": 24,
   "id": "e5f7ed64",
   "metadata": {},
   "outputs": [
    {
     "name": "stdout",
     "output_type": "stream",
     "text": [
      "2\n",
      "3\n",
      "1\n",
      "-4\n",
      "1\n",
      "20\n"
     ]
    }
   ],
   "source": [
    "# Bitwise Operators\n",
    "\n",
    "# bitwise and\n",
    "\n",
    "print(2 & 3)\n",
    "\n",
    "# bitwise or\n",
    "\n",
    "print(2 | 3)\n",
    "\n",
    "# bitwise xor\n",
    "\n",
    "print(2 ^ 3)\n",
    "\n",
    "# bitwise not\n",
    "\n",
    "print(~3)\n",
    "\n",
    "# right shift\n",
    "print(4 >> 2)\n",
    "\n",
    "# left shift\n",
    "\n",
    "print(5 << 2)"
   ]
  },
  {
   "cell_type": "code",
   "execution_count": 26,
   "id": "d9acdea3",
   "metadata": {},
   "outputs": [
    {
     "name": "stdout",
     "output_type": "stream",
     "text": [
      "8\n",
      "4\n",
      "16\n",
      "4.0\n",
      "0.0\n"
     ]
    }
   ],
   "source": [
    "# Assignment operators\n",
    "\n",
    "a = 4 #equal is aassignment operator\n",
    "\n",
    "a += 4\n",
    "\n",
    "print(a)\n",
    "a -= 4\n",
    "\n",
    "print(a)\n",
    "a *= 4\n",
    "\n",
    "print(a)\n",
    "a /= 4\n",
    "\n",
    "print(a)\n",
    "\n",
    "a %= 4\n",
    "\n",
    "print(a)\n"
   ]
  },
  {
   "cell_type": "code",
   "execution_count": 29,
   "id": "de5ac62a",
   "metadata": {},
   "outputs": [
    {
     "name": "stdout",
     "output_type": "stream",
     "text": [
      "True\n",
      "False\n",
      "False\n",
      "True\n"
     ]
    }
   ],
   "source": [
    "# Membership Operators\n",
    "# in :Returns True if a sequence with the specified value is present in the object\n",
    "\n",
    "print('S' in 'Student')\n",
    "\n",
    "print('D' in 'Student')\n",
    "\n",
    "# not in :Returns True if a sequence with the specified value is not present in the object\n",
    "\n",
    "print('S' not in 'Student')\n",
    "\n",
    "print('D' not in 'Student')\n"
   ]
  },
  {
   "cell_type": "code",
   "execution_count": 36,
   "id": "7d1ebbdf",
   "metadata": {},
   "outputs": [
    {
     "name": "stdout",
     "output_type": "stream",
     "text": [
      "False\n",
      "True\n"
     ]
    }
   ],
   "source": [
    "# identity operators\n",
    "\n",
    "# is :Returns True if both variables are the same object\n",
    "\n",
    "x = [1,2,3]\n",
    "\n",
    "print(x is [1,2,3])\n",
    "\n",
    "print (x is not [1,2,3])"
   ]
  }
 ],
 "metadata": {
  "kernelspec": {
   "display_name": "Python 3 (ipykernel)",
   "language": "python",
   "name": "python3"
  },
  "language_info": {
   "codemirror_mode": {
    "name": "ipython",
    "version": 3
   },
   "file_extension": ".py",
   "mimetype": "text/x-python",
   "name": "python",
   "nbconvert_exporter": "python",
   "pygments_lexer": "ipython3",
   "version": "3.9.12"
  }
 },
 "nbformat": 4,
 "nbformat_minor": 5
}
