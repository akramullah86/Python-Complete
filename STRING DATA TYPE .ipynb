{
 "cells": [
  {
   "cell_type": "markdown",
   "id": "bef0ab17",
   "metadata": {},
   "source": [
    "# STRINGS\n",
    "\n",
    "`String mean text data`\n",
    "\n",
    "`Strings are sequence of Characters`\n",
    "\n",
    "`Strings in python are surrounded by either single quotation marks, or double quotation marks`\n",
    "\n",
    "`Python strings are immutable`"
   ]
  },
  {
   "cell_type": "markdown",
   "id": "711e6267",
   "metadata": {},
   "source": [
    "# Creating string"
   ]
  },
  {
   "cell_type": "code",
   "execution_count": null,
   "id": "50becc59",
   "metadata": {},
   "outputs": [],
   "source": [
    "s = 'ikram'\n",
    "print(s)\n",
    "\n",
    "s1 = \"Gujranwala\"\n",
    "print(s1)\n",
    "\n",
    "s2 = \"34\"\n",
    "print(s2)\n",
    "\n",
    "s3 = \"\"\"Age=37\"\"\"   #use for multiline string\n",
    "print(s3)\n",
    "\n",
    "# s4 = str(ikram)\n",
    "# print(s4)\n",
    "\n",
    "type(s)\n"
   ]
  },
  {
   "cell_type": "markdown",
   "id": "2019fc77",
   "metadata": {},
   "source": [
    "# Slicing\n",
    "\n",
    "`we can return a range of characters by using the slice syntax`"
   ]
  },
  {
   "cell_type": "code",
   "execution_count": null,
   "id": "35c3827f",
   "metadata": {},
   "outputs": [],
   "source": [
    "s = 'Hello world!'\n",
    "\n",
    "# Slice From the Start\n",
    "\n",
    "print(s[:])\n",
    "print(s[4])\n",
    "print(s[2:])\n",
    "print(s[2:7])\n",
    "print(s[:7])\n",
    "\n",
    "\n"
   ]
  },
  {
   "cell_type": "code",
   "execution_count": null,
   "id": "594cd656",
   "metadata": {},
   "outputs": [],
   "source": [
    "# Negative indexing\n",
    "s = 'Hello world!'\n",
    "print(s[-5:-2])\n",
    "\n",
    "print(s[6:0:-2])\n",
    "\n",
    "print(s[-1:-6:-1])"
   ]
  },
  {
   "cell_type": "code",
   "execution_count": null,
   "id": "f6476073",
   "metadata": {},
   "outputs": [],
   "source": [
    "# Python strings are immutable\n",
    "\n",
    "s = 'hello world'\n",
    "s[0] = 'H'"
   ]
  },
  {
   "cell_type": "code",
   "execution_count": null,
   "id": "ab296422",
   "metadata": {},
   "outputs": [],
   "source": [
    "s = 'hello world'\n",
    "\n",
    "del s\n",
    "print(s)\n"
   ]
  },
  {
   "cell_type": "code",
   "execution_count": null,
   "id": "d5984420",
   "metadata": {},
   "outputs": [],
   "source": [
    "s = 'Hello world!'\n",
    "del s[-1:-5:2]\n",
    "print(s)"
   ]
  },
  {
   "cell_type": "markdown",
   "id": "40c994d7",
   "metadata": {},
   "source": [
    "# Operations on Strings"
   ]
  },
  {
   "cell_type": "code",
   "execution_count": null,
   "id": "58b9b09f",
   "metadata": {},
   "outputs": [],
   "source": [
    "# Arithmetic Operations\n",
    "\n",
    "name = 'Ikram'\n",
    "\n",
    "age = '37'\n",
    "\n",
    "print(name + ' ' + age)\n",
    "\n",
    "print('Gujranwala'*3)\n",
    "\n",
    "print(\"*\"*10)\n",
    "\n",
    "'lahore' != 'lahore'\n",
    "\n",
    "'lahore' > 'gujranwala'"
   ]
  },
  {
   "cell_type": "code",
   "execution_count": null,
   "id": "59aaf71e",
   "metadata": {},
   "outputs": [],
   "source": [
    "print('lahore' == 'lahore')\n",
    "print('Lahore' == 'lahore')\n",
    "\n",
    "print('hello' and 'world')\n",
    "print('hello' or 'world')\n",
    "print(not 'hello')"
   ]
  },
  {
   "cell_type": "markdown",
   "id": "8f72bbb1",
   "metadata": {},
   "source": [
    "# LOOP"
   ]
  },
  {
   "cell_type": "code",
   "execution_count": null,
   "id": "cf234802",
   "metadata": {},
   "outputs": [],
   "source": [
    "for i in 'hello':\n",
    "  print(i)\n",
    "\n",
    "for i in 'gujranwala':\n",
    "  print('lahore')\n",
    "\n"
   ]
  },
  {
   "cell_type": "code",
   "execution_count": null,
   "id": "18a146fe",
   "metadata": {},
   "outputs": [],
   "source": [
    "st = 'i want to become an Ai Engineer'\n",
    "\n",
    "if 'Engineer' in st:\n",
    "    print('INSHAALLAH')\n",
    "    \n",
    "st = 'i want to become an Ai Engineer'\n",
    "\n",
    "if 'Engineer' not in st:\n",
    "    print('INSHAALLAH')\n",
    "else:\n",
    "    print('Try hard')"
   ]
  },
  {
   "cell_type": "markdown",
   "id": "d5c27c8a",
   "metadata": {},
   "source": [
    "# Modify Strings"
   ]
  },
  {
   "cell_type": "code",
   "execution_count": null,
   "id": "b6dc0a64",
   "metadata": {},
   "outputs": [],
   "source": [
    "# upper()\n",
    "\n",
    "a = \"Hello World!\"\n",
    "print(a.upper())\n",
    "\n",
    "a = 'Ikram Hashmi'\n",
    "\n",
    "print(a.upper())\n",
    "\n",
    "# lower()\n",
    "\n",
    "b = 'Ikram Hashmi'\n",
    "\n",
    "print(b.lower())\n",
    "\n",
    "# Remove Whitespace\n",
    "# strip()  method removes any whitespace from the beginning or the end\n",
    "\n",
    "a = \" Hello World! \"\n",
    "print(a.strip()) \n",
    "\n",
    "b = '  Machine Learning    '\n",
    "print('Length before removing spaces is :',len(b))\n",
    "c = b.strip()\n",
    "print(c)\n",
    "print('Length after removing spaces is :',len(c))\n"
   ]
  },
  {
   "cell_type": "code",
   "execution_count": null,
   "id": "b229153c",
   "metadata": {},
   "outputs": [],
   "source": [
    "# The replace() method replaces a string with another string\n",
    "\n",
    "b = 'Machine Learning'\n",
    "c = b.replace('M','m')\n",
    "print(c)"
   ]
  },
  {
   "cell_type": "code",
   "execution_count": null,
   "id": "4dffaf62",
   "metadata": {},
   "outputs": [],
   "source": [
    "# The split() method returns a list where the text between the specified separator becomes the list items\n",
    "\n",
    "b = 'Machine-Learning-popular-skill'\n",
    "\n",
    "c = b.split('-')\n",
    "print(c)\n",
    "\n",
    "\n",
    "b = 'Machine Learning popular skill'\n",
    "\n",
    "c = b.split(' ')\n",
    "print(c)"
   ]
  },
  {
   "cell_type": "markdown",
   "id": "0f0ad82d",
   "metadata": {},
   "source": [
    "# String Format"
   ]
  },
  {
   "cell_type": "code",
   "execution_count": null,
   "id": "b326fae7",
   "metadata": {},
   "outputs": [],
   "source": [
    "age =36\n",
    "name = 'ikram'\n",
    "txt =f'My name is {name} and i am {age}'\n",
    "print(txt)\n",
    "txt = f'i am {age}'\n",
    "print(txt)"
   ]
  },
  {
   "cell_type": "code",
   "execution_count": null,
   "id": "a85ec8a8",
   "metadata": {},
   "outputs": [],
   "source": [
    "skill = 'Data Scientist'\n",
    "skill2 = 'Machine Learning'\n",
    "sk = f'i want to become a {skill} and i have a skill of {skill2}'\n",
    "print(sk)\n",
    "\n",
    "\n",
    "name = 'ikram'\n",
    "gender = 'male'\n",
    "\n",
    "'Hi my name is {1} and I am a {0}'.format(gender,name)"
   ]
  },
  {
   "cell_type": "code",
   "execution_count": null,
   "id": "8c23e949",
   "metadata": {},
   "outputs": [],
   "source": [
    "# # Find the length of a given string without using the len() function\n",
    "\n",
    "\n",
    "s = input('Enter the data')\n",
    "print(s)\n",
    "count=0\n",
    "for i in s:\n",
    "    i+=count\n",
    "print(i)\n"
   ]
  },
  {
   "cell_type": "code",
   "execution_count": null,
   "id": "042bc9af",
   "metadata": {},
   "outputs": [],
   "source": []
  }
 ],
 "metadata": {
  "kernelspec": {
   "display_name": "Python 3 (ipykernel)",
   "language": "python",
   "name": "python3"
  },
  "language_info": {
   "codemirror_mode": {
    "name": "ipython",
    "version": 3
   },
   "file_extension": ".py",
   "mimetype": "text/x-python",
   "name": "python",
   "nbconvert_exporter": "python",
   "pygments_lexer": "ipython3",
   "version": "3.9.12"
  }
 },
 "nbformat": 4,
 "nbformat_minor": 5
}
