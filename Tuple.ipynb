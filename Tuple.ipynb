{
 "cells": [
  {
   "cell_type": "markdown",
   "id": "619df815",
   "metadata": {},
   "source": [
    "# Tuple\n",
    "\n",
    "`Tuples are used to store multiple items in a single variable.`\n",
    "\n",
    "`A tuple is a collection which is ordered and unchangeable.`\n",
    "\n",
    "`A tuple in Python is similar to a list. The difference between the two is that we cannot change the elements of a tuple once it is assigned whereas we can change the elements of a list.`\n",
    "\n",
    "`Tuples are written with round brackets.`\n",
    "\n",
    "`Tuple items are ordered, unchangeable, and allow duplicate values.`\n",
    "\n",
    "`In short, a tuple is an immutable list. A tuple can not be changed in any way once it is created`\n",
    "\n",
    "# Ordered\n",
    "\n",
    "`When we say that tuples are ordered, it means that the items have a defined order, and that order will not change.`\n",
    "\n",
    "# Unchangeable\n",
    "\n",
    "`Tuples are unchangeable, meaning that we cannot change, add or remove items after the tuple has been created.`\n",
    "\n",
    "`Once a tuple is created, you cannot change its values. Tuples are unchangeable, or immutable as it also is called.`\n",
    "\n",
    "# Adding item\n",
    "\n",
    "`Not Possible to add items in a tuple after creation`\n",
    "\n",
    "# Allow Duplicates\n",
    "\n",
    "`Since tuples are indexed, they can have items with the same value`"
   ]
  },
  {
   "cell_type": "code",
   "execution_count": 6,
   "id": "5d401a36",
   "metadata": {},
   "outputs": [
    {
     "name": "stdout",
     "output_type": "stream",
     "text": [
      "<class 'tuple'>\n",
      "<class 'tuple'>\n"
     ]
    }
   ],
   "source": [
    "# Create Tuple With One Item\n",
    "\n",
    "tup = (1,)\n",
    "\n",
    "\n",
    "# tuple1 = ('Apple',)-------> this is not a tuple\n",
    "tuple1 = ('Apple',)\n",
    "\n",
    "print(type(tup))\n",
    "print(type(tuple1))"
   ]
  },
  {
   "cell_type": "code",
   "execution_count": 20,
   "id": "1b45067d",
   "metadata": {},
   "outputs": [
    {
     "name": "stdout",
     "output_type": "stream",
     "text": [
      "()\n",
      "<class 'tuple'>\n",
      "<class 'tuple'> <class 'tuple'> <class 'tuple'>\n",
      "<class 'tuple'>\n",
      "('H', 'e', 'l', 'l', 'o')\n",
      "<class 'tuple'>\n"
     ]
    }
   ],
   "source": [
    "# Tuple Items - Data Types\n",
    "# Tuple items can be of any data type\n",
    "\n",
    "# empety tuple\n",
    "\n",
    "emp_tpl  = ()\n",
    "print(emp_tpl)\n",
    "print(type(emp_tpl))\n",
    "\n",
    "# Homogeneous tuple \n",
    "# that contain values of same data type\n",
    "\n",
    "t1 = (1,2,3,4,5)\n",
    "\n",
    "t2 = ('red','green','blue')\n",
    "\n",
    "t3 = (True,False,True,True)\n",
    "\n",
    "print(type(t1),type(t2),type(t3))\n",
    "\n",
    "# Hetrogenous tuple\n",
    "# A tuple can contain different data types\n",
    "\n",
    "tpl1 = (1,True,'Apple',3+6j,6.5,[1,2,3])\n",
    "print(type(tpl1))\n",
    "\n",
    "# type conversion \n",
    "\n",
    "tpl2 = tuple('Hello')\n",
    "print(tpl2)\n",
    "print(type(tpl2))\n",
    "\n",
    "\n",
    "\n"
   ]
  },
  {
   "cell_type": "markdown",
   "id": "4a65bab8",
   "metadata": {},
   "source": [
    "# Access Tuple Items\n",
    "\n",
    "`we can access tuple items by referring to the index number, inside square brackets`\n",
    "\n",
    "`Indexing`\n",
    "\n",
    "`Slicing`"
   ]
  },
  {
   "cell_type": "code",
   "execution_count": 34,
   "id": "82e41bae",
   "metadata": {},
   "outputs": [
    {
     "name": "stdout",
     "output_type": "stream",
     "text": [
      "[1, 2, 3]\n",
      "2\n",
      "green\n",
      "3\n",
      "5\n",
      "black\n"
     ]
    }
   ],
   "source": [
    "# Indexing\n",
    "\n",
    "tpl1 = (1,True,'Apple',[1,2,3],3+6j,6.5)\n",
    "print(tpl1[3])\n",
    "\n",
    "tpl1 = (1,True,'Apple',[1,2,3],3+6j,6.5)\n",
    "print(tpl1[3][1])\n",
    "\n",
    "t2 = ('red','green','blue')\n",
    "print(t2[1])\n",
    "\n",
    "t1 = (1,2,3,4,5)\n",
    "print(t1[2])\n",
    "\n",
    "t5 = (1,2,3,(4,5,6))\n",
    "print(t5[3][-2])\n",
    "\n",
    "\n",
    "# Negative Indexing\n",
    "\n",
    "color = (\"white\", \"blue\", \"green\",\"black\",\"grey\")\n",
    "print(color[-2])"
   ]
  },
  {
   "cell_type": "code",
   "execution_count": 41,
   "id": "dac8aa98",
   "metadata": {},
   "outputs": [
    {
     "name": "stdout",
     "output_type": "stream",
     "text": [
      "('blue', 'green', 'black', 'grey')\n",
      "('apple', 'banana', 'cherry', 'orange')\n",
      "('blue', 'green', 'black', 'grey', 'yellow', 'pink')\n",
      "('green', 'black', 'grey')\n",
      "('green', 'black', 'grey', 'yellow', 'pink')\n",
      "('white', 'blue', 'green', 'black')\n"
     ]
    }
   ],
   "source": [
    "# Slicing\n",
    "# we can specify a range of indexes by specifying where to start and where to end the range\n",
    "\n",
    "color = (\"white\", \"blue\", \"green\",\"black\",\"grey\",\"yellow\",\"pink\")\n",
    "print(color[1:5]) #in tuple last index are not included\n",
    "\n",
    "fruits = (\"apple\", \"banana\", \"cherry\", \"orange\", \"kiwi\", \"melon\", \"mango\")\n",
    "print(fruits[:4])\n",
    "\n",
    "\n",
    "colors = (\"white\", \"blue\", \"green\",\"black\",\"grey\",\"yellow\",\"pink\")\n",
    "print(colors[1:])\n",
    "\n",
    "colors = (\"white\", \"blue\", \"green\",\"black\",\"grey\",\"yellow\",\"pink\")\n",
    "print(colors[-5:-2])\n",
    "\n",
    "\n",
    "colors = (\"white\", \"blue\", \"green\",\"black\",\"grey\",\"yellow\",\"pink\")\n",
    "print(colors[-5:])\n",
    "\n",
    "colors = (\"white\", \"blue\", \"green\",\"black\",\"grey\",\"yellow\",\"pink\")\n",
    "print(colors[:-3])\n",
    "\n",
    "\n"
   ]
  },
  {
   "cell_type": "code",
   "execution_count": 45,
   "id": "eef44781",
   "metadata": {},
   "outputs": [
    {
     "name": "stdout",
     "output_type": "stream",
     "text": [
      "This color is Available\n"
     ]
    }
   ],
   "source": [
    "# Check if Item Exists\n",
    "\n",
    "colors = (\"white\", \"blue\", \"green\",\"black\",\"grey\",\"yellow\",\"pink\")\n",
    "\n",
    "if 'green' in colors:\n",
    "    print('This color is Available')"
   ]
  },
  {
   "cell_type": "markdown",
   "id": "7d680928",
   "metadata": {},
   "source": [
    "# Unpacking a tuple\n",
    "\n",
    "`When we create a tuple, we normally assign values to it. This is called \"packing\" a tuple`\n",
    "\n",
    "`But, in Python, we are also allowed to extract the values back into variables. This is called unpacking`\n",
    "\n",
    "`If the number of variables is less than the number of values, you can add an * to the variable name and the values will be assigned to the variable as a list`\n",
    "\n",
    "`If the asterisk is added to another variable name than the last, Python will assign values to the variable until the number of values left matches the number of variables left.`\n",
    "\n"
   ]
  },
  {
   "cell_type": "code",
   "execution_count": 58,
   "id": "e977542c",
   "metadata": {},
   "outputs": [
    {
     "name": "stdout",
     "output_type": "stream",
     "text": [
      "white\n",
      "blue\n",
      "green\n",
      "white\n",
      "blue\n",
      "green\n",
      "['black', 'grey', 'yellow', 'pink']\n",
      "white\n",
      "['blue', 'green', 'black', 'grey', 'yellow']\n",
      "pink\n"
     ]
    }
   ],
   "source": [
    "colors = (\"white\", \"blue\", \"green\",\"black\",\"grey\",\"yellow\",\"pink\")\n",
    "\n",
    "color = (\"white\", \"blue\", \"green\")\n",
    "\n",
    "(x,y,z) = color\n",
    "print(x)\n",
    "print(y) \n",
    "print(z)\n",
    "\n",
    "colors = (\"white\", \"blue\", \"green\",\"black\",\"grey\",\"yellow\",\"pink\")\n",
    "(a,b,c,*d) = colors\n",
    "\n",
    "print(a)\n",
    "print(b) \n",
    "print(c)\n",
    "print(d)\n",
    "\n",
    "colors = (\"white\", \"blue\", \"green\",\"black\",\"grey\",\"yellow\",\"pink\")\n",
    "(a,*b,c) = colors\n",
    "\n",
    "print(a)\n",
    "print(b)\n",
    "print(c)\n"
   ]
  },
  {
   "cell_type": "code",
   "execution_count": 103,
   "id": "774ead05",
   "metadata": {},
   "outputs": [],
   "source": [
    "color = (\"white\", \"blue\", \"green\")\n",
    "\n",
    "# color.remove('blue')\n",
    "del color"
   ]
  },
  {
   "cell_type": "markdown",
   "id": "44c5882e",
   "metadata": {},
   "source": [
    "# Loop Through a Tuple"
   ]
  },
  {
   "cell_type": "code",
   "execution_count": 81,
   "id": "5dacf03c",
   "metadata": {},
   "outputs": [
    {
     "name": "stdout",
     "output_type": "stream",
     "text": [
      "white\n",
      "blue\n",
      "green\n",
      "black\n",
      "grey\n",
      "yellow\n",
      "pink\n",
      "white\n",
      "blue\n",
      "green\n",
      "black\n",
      "grey\n",
      "yellow\n",
      "pink\n",
      "white\n",
      "blue\n",
      "green\n",
      "black\n",
      "grey\n",
      "yellow\n",
      "pink\n"
     ]
    }
   ],
   "source": [
    " colors = (\"white\", \"blue\", \"green\",\"black\",\"grey\",\"yellow\",\"pink\")\n",
    "\n",
    "for i in colors:\n",
    "    print(i)\n",
    "\n",
    "    \n",
    "# Range\n",
    "\n",
    "for i in range(len(colors)):\n",
    "    print(colors[i])\n",
    "    \n",
    "    \n",
    "#  for i in len(colors):\n",
    "#     print(colors[i]) \n",
    "\n",
    "\n",
    " colors = (\"white\", \"blue\", \"green\",\"black\",\"grey\",\"yellow\",\"pink\")\n",
    "\n",
    "i =0\n",
    "\n",
    "while i< len(colors):\n",
    "    print(colors[i])\n",
    "    \n",
    "    i+=1\n",
    "    \n"
   ]
  },
  {
   "cell_type": "code",
   "execution_count": 90,
   "id": "2e9b1104",
   "metadata": {},
   "outputs": [
    {
     "data": {
      "text/plain": [
       "[4, 3, 2, 1]"
      ]
     },
     "execution_count": 90,
     "metadata": {},
     "output_type": "execute_result"
    }
   ],
   "source": [
    "# Additional function\n",
    "\n",
    "t1 = (1,2,3,4)\n",
    "\n",
    "sum(t1)\n",
    "\n",
    "max(t1)\n",
    "\n",
    "t2 = t1*2\n",
    "t2\n",
    "\n",
    "t1.count(5)\n",
    "\n",
    "sorted(t1)\n",
    "\n",
    "sorted(t1,reverse=True)\n",
    "\n"
   ]
  },
  {
   "cell_type": "markdown",
   "id": "21870792",
   "metadata": {},
   "source": [
    "## Join Two Tuples\n",
    "\n",
    "`To join two or more tuples you can use the + operator`"
   ]
  },
  {
   "cell_type": "code",
   "execution_count": 92,
   "id": "df61388a",
   "metadata": {},
   "outputs": [
    {
     "name": "stdout",
     "output_type": "stream",
     "text": [
      "('apple', 'banana', 'cherry', 'apple', 'banana', 'cherry')\n"
     ]
    }
   ],
   "source": [
    "t1 = (1,2,3,4)\n",
    "\n",
    "t2 = (9,8,7,6)\n",
    "\n",
    "t3 = t1 + t2\n",
    "\n",
    "t3\n",
    "\n",
    "t1 = (1,2,3,4)\n",
    "\n",
    "t2 = ('red','blue')\n",
    "\n",
    "t4 = t1 + t2\n",
    "t4\n",
    "\n",
    "# copy the same value of a tuple\n",
    "# Multiply Tuples\n",
    "\n",
    "fruits = (\"apple\", \"banana\", \"cherry\")\n",
    "mytuple = fruits * 2\n",
    "\n",
    "print(mytuple)\n",
    "\n"
   ]
  },
  {
   "cell_type": "code",
   "execution_count": 100,
   "id": "27775cc5",
   "metadata": {},
   "outputs": [
    {
     "name": "stdout",
     "output_type": "stream",
     "text": [
      "3\n",
      "2\n"
     ]
    },
    {
     "data": {
      "text/plain": [
       "1"
      ]
     },
     "execution_count": 100,
     "metadata": {},
     "output_type": "execute_result"
    }
   ],
   "source": [
    "# count()\tReturns the number of times a specified value occurs in a tuple\n",
    "\n",
    "t = (1,2,2,2,3,5,6,6,7)\n",
    "print(t.count(2))\n",
    "print(t.count(6))\n",
    "\n",
    "\n",
    "# index()\tSearches the tuple for a specified value and returns the position of where it was found\n",
    "\n",
    "t.index(2)"
   ]
  },
  {
   "cell_type": "markdown",
   "id": "ab15bd8f",
   "metadata": {},
   "source": [
    "### Difference between Lists and Tuples\n",
    "\n",
    "- Syntax\n",
    "- Mutability\n",
    "- Speed\n",
    "- Memory\n",
    "- Built in functionality\n",
    "- Error prone\n",
    "- Usability"
   ]
  }
 ],
 "metadata": {
  "kernelspec": {
   "display_name": "Python 3 (ipykernel)",
   "language": "python",
   "name": "python3"
  },
  "language_info": {
   "codemirror_mode": {
    "name": "ipython",
    "version": 3
   },
   "file_extension": ".py",
   "mimetype": "text/x-python",
   "name": "python",
   "nbconvert_exporter": "python",
   "pygments_lexer": "ipython3",
   "version": "3.9.12"
  }
 },
 "nbformat": 4,
 "nbformat_minor": 5
}
