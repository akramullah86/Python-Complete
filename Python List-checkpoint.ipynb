{
 "cells": [
  {
   "cell_type": "markdown",
   "id": "0489095d",
   "metadata": {},
   "source": [
    "# List\n",
    "\n",
    "## What are List\n",
    "\n",
    "`List is a data type where you can store multiple items under 1 name. More technically, lists act like dynamic arrays which means you can add more items on the fly.`\n",
    "\n",
    "`Lists are used to store multiple items in a single variable`\n",
    "\n",
    "`List items are ordered, changeable, and allow duplicate values.`\n",
    "\n",
    "## Odered\n",
    "\n",
    "` When we say that lists are ordered, it means that the items have a defined order, and that order will not change.`\n",
    "\n",
    "`If you add new items to a list, the new items will be placed at the end of the list.`\n",
    "\n",
    "## Changeable\n",
    "\n",
    "`The list is changeable, meaning that we can change, add, and remove items in a list after it has been created.`\n",
    "\n",
    "## Duplicate\n",
    "\n",
    "`Since lists are indexed, lists can have items with the same value.`\n",
    "\n"
   ]
  },
  {
   "cell_type": "code",
   "execution_count": 1,
   "id": "8c6d8a93",
   "metadata": {},
   "outputs": [
    {
     "name": "stdout",
     "output_type": "stream",
     "text": [
      "[1, 2, 3]\n",
      "2408474923200\n",
      "2408387143984\n",
      "2408387144016\n",
      "2408387144048\n"
     ]
    }
   ],
   "source": [
    "# we use the id function to check the memory adress\n",
    "\n",
    "L =[1,2,3]\n",
    "\n",
    "print(L)\n",
    "print(id(L))\n",
    "print(id(L[0]))\n",
    "print(id(L[1]))\n",
    "print(id(L[2]))"
   ]
  },
  {
   "cell_type": "code",
   "execution_count": 2,
   "id": "42308dfd",
   "metadata": {},
   "outputs": [
    {
     "data": {
      "text/plain": [
       "False"
      ]
     },
     "execution_count": 2,
     "metadata": {},
     "output_type": "execute_result"
    }
   ],
   "source": [
    "L = [1,2,3,1]\n",
    "\n",
    "L1 = [3,2,1]\n",
    "\n",
    "L==L1"
   ]
  },
  {
   "cell_type": "code",
   "execution_count": 3,
   "id": "fd2d3808",
   "metadata": {},
   "outputs": [
    {
     "name": "stdout",
     "output_type": "stream",
     "text": [
      "['Matric', 'Inter', 'Undergraduate', 'Graduate']\n",
      "[True, False, True]\n",
      "[1, 1, 2, 3, 4, 5, 5]\n",
      "[]\n",
      "[1, 2, 3, 4]\n",
      "[1, 2, 3, [4, 5, 6]]\n",
      "[[[1, 2, 3], [4, 5, 6]], [[6, 7, 8], [3, 4, 5]]]\n",
      "[1, 6.5, True, (2+3j), 'Apple', (1, 2, 4)]\n",
      "['h', 'e', 'l', 'l', 'o']\n"
     ]
    }
   ],
   "source": [
    "# Creating List\n",
    "\n",
    "my_list = ['Matric','Inter','Undergraduate','Graduate']\n",
    "print(my_list)\n",
    "\n",
    "print([True,False,True])\n",
    "\n",
    "# List Allow Duplicate\n",
    "\n",
    "my_list = [1,1,2,3,4,5,5]\n",
    "print(my_list)\n",
    "\n",
    "# Empty\n",
    "\n",
    "x = []\n",
    "print(x)\n",
    "\n",
    "# 1-D Homogeneous\n",
    "print([1,2,3,4])\n",
    "\n",
    "# 2-D\n",
    "print([1,2,3,[4,5,6]])\n",
    "\n",
    "# 3-D\n",
    "\n",
    "print([[[1,2,3],[4,5,6]],[[6,7,8],[3,4,5]]])\n",
    "\n",
    "# Hetrogeneous\n",
    "\n",
    "print([1,6.5,True,2+3j,'Apple',(1,2,4)])\n",
    "\n",
    "# type conversion \n",
    "\n",
    "print(list('hello'))\n"
   ]
  },
  {
   "cell_type": "code",
   "execution_count": 4,
   "id": "6aec639c",
   "metadata": {},
   "outputs": [
    {
     "name": "stdout",
     "output_type": "stream",
     "text": [
      "<class 'list'>\n"
     ]
    }
   ],
   "source": [
    "# Type Function\n",
    "\n",
    "new_list = ['cake','burger','pizza']\n",
    "\n",
    "print(type(new_list))"
   ]
  },
  {
   "cell_type": "markdown",
   "id": "dfa70f13",
   "metadata": {},
   "source": [
    "# Accessing Items From List\n",
    "\n",
    "`List items are indexed and you can access them by referring to the index number`\n",
    "\n",
    "`in list indexing start from 0`\n",
    "\n",
    "` first item has index 0.`"
   ]
  },
  {
   "cell_type": "code",
   "execution_count": 5,
   "id": "ceb9df8e",
   "metadata": {},
   "outputs": [
    {
     "name": "stdout",
     "output_type": "stream",
     "text": [
      "banana\n",
      "apple\n"
     ]
    },
    {
     "data": {
      "text/plain": [
       "3"
      ]
     },
     "execution_count": 5,
     "metadata": {},
     "output_type": "execute_result"
    }
   ],
   "source": [
    "new_list = ['apple','banana','grapes','mango']\n",
    "\n",
    "print(new_list[1])\n",
    "print(new_list[0])\n",
    "\n",
    "List = [[[1,2],[3,4,],[4,5],[6,7]]]\n",
    "\n",
    "List[0][1][0]"
   ]
  },
  {
   "cell_type": "code",
   "execution_count": 6,
   "id": "4ab8c4e5",
   "metadata": {},
   "outputs": [
    {
     "name": "stdout",
     "output_type": "stream",
     "text": [
      "Mango\n",
      "Apple\n"
     ]
    }
   ],
   "source": [
    "#  Negative indexing\n",
    "# Print the last item of the list\n",
    "\n",
    "List = ['Kiwi','Orange','Apple','Mango']\n",
    "print(List[-1])\n",
    "print(List[-2])\n"
   ]
  },
  {
   "cell_type": "code",
   "execution_count": 7,
   "id": "2726c217",
   "metadata": {},
   "outputs": [
    {
     "name": "stdout",
     "output_type": "stream",
     "text": [
      "[1, 2, 3, 4, 5, 6]\n",
      "[1, 4]\n",
      "[1, 2, 3, 4, 5, 6]\n",
      "[1, 3, 5]\n",
      "[1, 2, 3]\n",
      "[2, 3, 4, 5, 6]\n",
      "[3, 4, 5]\n",
      "[2, 3, 4]\n"
     ]
    },
    {
     "data": {
      "text/plain": [
       "[1, 2, 3, 4]"
      ]
     },
     "execution_count": 7,
     "metadata": {},
     "output_type": "execute_result"
    }
   ],
   "source": [
    "# Slicing\n",
    "\n",
    "L = [1,2,3,4,5,6]\n",
    "print(L[:])\n",
    "print(L[::3])\n",
    "print(L[0:])\n",
    "print(L[0::2])\n",
    "print(L[0:3])\n",
    "print(L[1:])\n",
    "print(L[2:5])\n",
    "print(L[1:4])\n",
    "\n",
    "# Negative Slicing\n",
    "\n",
    "L[::-1]\n",
    "L[-3:-1]\n",
    "L[-6:]\n",
    "L[-6:-2]"
   ]
  },
  {
   "cell_type": "code",
   "execution_count": 8,
   "id": "2e518026",
   "metadata": {},
   "outputs": [
    {
     "name": "stdout",
     "output_type": "stream",
     "text": [
      "Yes this color is available\n"
     ]
    }
   ],
   "source": [
    "# check if item exist\n",
    "\n",
    "color = ['white','green','black','brown']\n",
    "\n",
    "if 'black' in color:\n",
    "    print('Yes this color is available')\n"
   ]
  },
  {
   "cell_type": "markdown",
   "id": "0b208b67",
   "metadata": {},
   "source": [
    "# Change List Items\n",
    "\n",
    "`To change the value of a specific item, refer to the index number`"
   ]
  },
  {
   "cell_type": "code",
   "execution_count": 9,
   "id": "6317cfab",
   "metadata": {},
   "outputs": [
    {
     "name": "stdout",
     "output_type": "stream",
     "text": [
      "['white', 'yellow', 'black', 'brown']\n",
      "['white', 'green', 'black', 'brown']\n",
      "['white', 'green', 'purple', 'pink', 'red', 'blue']\n",
      "['white', 'green', 'purple', 'pink', 'red', 'blue', 'grey']\n",
      "['white', 'green', 'purple', 'pink', 'red', 'blue', 2]\n"
     ]
    },
    {
     "data": {
      "text/plain": [
       "['white', 'green', 3]"
      ]
     },
     "execution_count": 9,
     "metadata": {},
     "output_type": "execute_result"
    }
   ],
   "source": [
    "color = ['white','green','black','brown']\n",
    "\n",
    "color[1] = 'yellow'\n",
    "print(color)\n",
    "\n",
    "# Change a Range of Item Values\n",
    "\n",
    "color = ['white','green','black','brown']\n",
    "print(color)\n",
    "\n",
    "color[2:4] = ['purple','pink','red','blue']\n",
    "print(color)\n",
    "\n",
    "color = ['white','green','black','brown','grey']\n",
    "\n",
    "color[2:4] = ['purple','pink','red','blue']\n",
    "print(color)\n",
    "\n",
    "# if we want to add item at the end\n",
    "color[-1] = 2\n",
    "print(color)\n",
    "\n",
    "color[2:8] = [3]\n",
    "color\n"
   ]
  },
  {
   "cell_type": "code",
   "execution_count": 10,
   "id": "e5c40729",
   "metadata": {},
   "outputs": [
    {
     "name": "stdout",
     "output_type": "stream",
     "text": [
      "['white', 'green', 'black', 'brown']\n"
     ]
    },
    {
     "data": {
      "text/plain": [
       "['white', 'blue', 'green', 'black', 'brown']"
      ]
     },
     "execution_count": 10,
     "metadata": {},
     "output_type": "execute_result"
    }
   ],
   "source": [
    "# insert\n",
    "# The insert() method inserts an item at the specified index\n",
    "\n",
    "color = ['white','green','black','brown']\n",
    "print(color)\n",
    "\n",
    "color.insert(1,'blue')\n",
    "color"
   ]
  },
  {
   "cell_type": "code",
   "execution_count": 11,
   "id": "71de1b6e",
   "metadata": {},
   "outputs": [
    {
     "name": "stdout",
     "output_type": "stream",
     "text": [
      "['white', 'green', 'black', 'brown']\n",
      "['white', 'green', 'black', 'brown', 'yellow']\n"
     ]
    }
   ],
   "source": [
    "color = ['white','green','black','brown']\n",
    "print(color)\n",
    "\n",
    "# append \n",
    "# To add an item to the end of the list, use the append() method\n",
    "\n",
    "color.append('yellow')\n",
    "\n",
    "print(color)"
   ]
  },
  {
   "cell_type": "code",
   "execution_count": 12,
   "id": "f4614f8a",
   "metadata": {},
   "outputs": [
    {
     "name": "stdout",
     "output_type": "stream",
     "text": [
      "['white', 'green', 'black', 'brown']\n",
      "['white', 'green', 'black', 'brown', 1, 2, 3]\n",
      "[1, 2, 3, 'white', 'green', 'black', 'brown', 1, 2, 3]\n",
      "[1, 2, 3, 4, 5, 6]\n"
     ]
    }
   ],
   "source": [
    "# Extend\n",
    "# To append elements from another list to the current list, use the extend() method\n",
    "\n",
    "color = ['white','green','black','brown']\n",
    "print(color)\n",
    "\n",
    "L = [1,2,3]\n",
    "\n",
    "color.extend(L)\n",
    "print(color)\n",
    "\n",
    "L.extend(color)\n",
    "print(L)\n",
    "\n",
    "# we can also add a tuple by using extend function\n",
    "\n",
    "l = [1,2,3]\n",
    "t = (4,5,6)\n",
    "l.extend(t)\n",
    "print(l)\n"
   ]
  },
  {
   "cell_type": "markdown",
   "id": "d07e8e39",
   "metadata": {},
   "source": [
    "# Remove List items"
   ]
  },
  {
   "cell_type": "code",
   "execution_count": 13,
   "id": "cea8c0fe",
   "metadata": {},
   "outputs": [
    {
     "name": "stdout",
     "output_type": "stream",
     "text": [
      "['white', 'green', 'black', 'brown']\n",
      "['white', 'black', 'brown']\n",
      "['white', 'green', 'black', 'brown', 'blue', 'black']\n",
      "['white', 'green', 'brown', 'blue', 'black']\n"
     ]
    }
   ],
   "source": [
    "# remove()\n",
    "color = ['white','green','black','brown']\n",
    "print(color)\n",
    "\n",
    "color.remove('green')\n",
    "print(color)\n",
    "\n",
    "# If there are more than one item with the specified value, the remove() method removes the first occurance\n",
    "\n",
    "colors = ['white','green','black','brown','blue','black']\n",
    "print(colors)\n",
    "\n",
    "colors.remove('black')\n",
    "print(colors)\n",
    "\n"
   ]
  },
  {
   "cell_type": "code",
   "execution_count": 14,
   "id": "2e4050f8",
   "metadata": {},
   "outputs": [
    {
     "name": "stdout",
     "output_type": "stream",
     "text": [
      "['white', 'green', 'black', 'brown']\n",
      "['white', 'green', 'brown']\n",
      "['white', 'green', 'black']\n"
     ]
    }
   ],
   "source": [
    "# pop()\n",
    "# The pop() method removes the specified index\n",
    "\n",
    "color = ['white','green','black','brown']\n",
    "print(color)\n",
    "\n",
    "color.pop(2)\n",
    "print(color)\n",
    "\n",
    "# If you do not specify the index, the pop() method removes the last item\n",
    "\n",
    "color = ['white','green','black','brown']\n",
    "color.pop()\n",
    "print(color)"
   ]
  },
  {
   "cell_type": "code",
   "execution_count": 15,
   "id": "1c2f5e1e",
   "metadata": {},
   "outputs": [
    {
     "name": "stdout",
     "output_type": "stream",
     "text": [
      "['white', 'green', 'black', 'brown']\n",
      "['white', 'green', 'black']\n"
     ]
    },
    {
     "ename": "NameError",
     "evalue": "name 'color' is not defined",
     "output_type": "error",
     "traceback": [
      "\u001b[1;31m---------------------------------------------------------------------------\u001b[0m",
      "\u001b[1;31mNameError\u001b[0m                                 Traceback (most recent call last)",
      "Input \u001b[1;32mIn [15]\u001b[0m, in \u001b[0;36m<cell line: 13>\u001b[1;34m()\u001b[0m\n\u001b[0;32m     10\u001b[0m \u001b[38;5;66;03m# The del keyword can also delete the list completely\u001b[39;00m\n\u001b[0;32m     11\u001b[0m \u001b[38;5;66;03m# Delete the entire list\u001b[39;00m\n\u001b[0;32m     12\u001b[0m \u001b[38;5;28;01mdel\u001b[39;00m color\n\u001b[1;32m---> 13\u001b[0m \u001b[38;5;28mprint\u001b[39m(\u001b[43mcolor\u001b[49m)\n",
      "\u001b[1;31mNameError\u001b[0m: name 'color' is not defined"
     ]
    }
   ],
   "source": [
    "# del\n",
    "# The del keyword also removes the specified index\n",
    "\n",
    "color = ['white','green','black','brown']\n",
    "print(color)\n",
    "\n",
    "del color[3]\n",
    "print(color)\n",
    "\n",
    "# The del keyword can also delete the list completely\n",
    "# Delete the entire list\n",
    "del color\n",
    "print(color)\n"
   ]
  },
  {
   "cell_type": "code",
   "execution_count": 16,
   "id": "6cee0586",
   "metadata": {},
   "outputs": [
    {
     "name": "stdout",
     "output_type": "stream",
     "text": [
      "['white', 'green', 'black', 'brown']\n",
      "[]\n"
     ]
    }
   ],
   "source": [
    "# Clear\n",
    "# The clear() method empties the list.\n",
    "\n",
    "# The list still remains, but it has no content\n",
    "\n",
    "color = ['white','green','black','brown']\n",
    "print(color)\n",
    "\n",
    "color.clear()\n",
    "print(color)"
   ]
  },
  {
   "cell_type": "markdown",
   "id": "4838949b",
   "metadata": {},
   "source": [
    "## LOOP IN LIST"
   ]
  },
  {
   "cell_type": "code",
   "execution_count": 36,
   "id": "47d494bf",
   "metadata": {},
   "outputs": [
    {
     "name": "stdout",
     "output_type": "stream",
     "text": [
      "1\n",
      "2\n",
      "3\n",
      "4\n",
      "5\n",
      "white\n",
      "green\n",
      "blue\n",
      "yellow\n",
      "white\n",
      "green\n",
      "blue\n",
      "yellow\n",
      "66\n",
      "77\n"
     ]
    }
   ],
   "source": [
    "my_list = [1,2,3,4,5]\n",
    "for i in range(len(my_list)):\n",
    "    print(my_list[i])\n",
    "    \n",
    "colors = ['white','green','blue','yellow']\n",
    "\n",
    "for i in colors:\n",
    "    print(i)\n",
    "    \n",
    "colors = ['white','green','blue','yellow',66,77]    \n",
    "for i in range(len(colors)):\n",
    "    print(colors[i])"
   ]
  },
  {
   "cell_type": "markdown",
   "id": "966a80a8",
   "metadata": {},
   "source": [
    "## LIST COMPREHENSION\n",
    "\n",
    "`List comprehension offers a shorter syntax when you want to create a new list based on the values of an existing list.`\n",
    "\n",
    "`List Comprehension provides a concise way of creating lists`\n",
    "\n",
    "## syntax:\n",
    "\n",
    "### newlist = [expression for item in iterable if condition == True]"
   ]
  },
  {
   "cell_type": "code",
   "execution_count": 39,
   "id": "7ab1a067",
   "metadata": {},
   "outputs": [
    {
     "name": "stdout",
     "output_type": "stream",
     "text": [
      "[8, 9, 10, 11, 12]\n",
      "['pizza', 'shwarma', 'biryani']\n"
     ]
    }
   ],
   "source": [
    "# Without list comprehension you will have to write a for statement with a conditional test inside\n",
    "\n",
    "new_list = [1,2,5,8,9,10,11,12]\n",
    "temp_list = []\n",
    "\n",
    "for i in new_list:\n",
    "    if i >5:\n",
    "        temp_list.append(i)\n",
    "print(temp_list)\n",
    "\n",
    "\n",
    "food = ['pizza','burger','shwarma','biryani','zinger','juice']\n",
    "new_list = []\n",
    "\n",
    "for i in food:\n",
    "    if 'a' in i:\n",
    "        new_list.append(i)\n",
    "print(new_list)"
   ]
  },
  {
   "cell_type": "code",
   "execution_count": 50,
   "id": "1f0b0c3b",
   "metadata": {},
   "outputs": [
    {
     "name": "stdout",
     "output_type": "stream",
     "text": [
      "[8, 9, 10, 11, 12]\n",
      "['pizza', 'biryani', 'zinger', 'juice']\n",
      "[]\n",
      "['pizza', 'burger', 'shwarma', 'biryani', 'zinger', 'juice']\n"
     ]
    }
   ],
   "source": [
    "# With list comprehension you can do all that with only one line of code\n",
    "# syntax:\n",
    "# newlist = [expression for item in iterable if condition == True]\n",
    "\n",
    "numbers = [1,2,5,8,9,10,11,12]\n",
    "\n",
    "new_list = [i for i in numbers if i>5 ]\n",
    "print(new_list)\n",
    "\n",
    "\n",
    "food = ['pizza','burger','shwarma','biryani','zinger','juice']\n",
    "\n",
    "new_food = [x for x in food if 'i' in x]\n",
    "print(new_food)\n",
    "print(x)\n",
    "\n",
    "# without if statement\n",
    "food = ['pizza','burger','shwarma','biryani','zinger','juice']\n",
    "\n",
    "new_food1 = [x for x in food ]\n",
    "print(new_food1)\n"
   ]
  },
  {
   "cell_type": "code",
   "execution_count": 57,
   "id": "f366680f",
   "metadata": {},
   "outputs": [
    {
     "name": "stdout",
     "output_type": "stream",
     "text": [
      "[0, 1, 2, 3, 4, 5, 6, 7, 8, 9]\n",
      "[6, 7, 8, 9]\n"
     ]
    }
   ],
   "source": [
    "number_list = [x for x in range(10)]\n",
    "print(number_list)\n",
    "\n",
    "number_list1 = [x for x in range(10) if x>5]\n",
    "print(number_list1)"
   ]
  },
  {
   "cell_type": "code",
   "execution_count": 59,
   "id": "fcb75903",
   "metadata": {},
   "outputs": [
    {
     "name": "stdout",
     "output_type": "stream",
     "text": [
      "['BLACK', 'PINK', 'PURPLE']\n"
     ]
    }
   ],
   "source": [
    "colors = ['black','pink','purple']\n",
    "colours = [i.upper() for i in colors]\n",
    "print(colours)"
   ]
  },
  {
   "cell_type": "markdown",
   "id": "1f43e592",
   "metadata": {},
   "source": [
    "## Sort List"
   ]
  },
  {
   "cell_type": "code",
   "execution_count": 65,
   "id": "e2987b0e",
   "metadata": {},
   "outputs": [
    {
     "name": "stdout",
     "output_type": "stream",
     "text": [
      "['biryani', 'juice', 'pizza', 'zinger']\n",
      "[23, 50, 65, 82, 100]\n"
     ]
    }
   ],
   "source": [
    "# sort()\n",
    "# Sort the list alphabetically\n",
    "\n",
    "food = ['pizza', 'biryani', 'zinger', 'juice']\n",
    "food.sort()\n",
    "print(food)\n",
    "\n",
    "# Sort the list numerically\n",
    "\n",
    "numeric_list = [100, 50, 65, 82, 23]\n",
    "numeric_list.sort()\n",
    "print(numeric_list)"
   ]
  },
  {
   "cell_type": "code",
   "execution_count": 67,
   "id": "1fc01bd8",
   "metadata": {},
   "outputs": [
    {
     "name": "stdout",
     "output_type": "stream",
     "text": [
      "['zinger', 'pizza', 'juice', 'biryani']\n",
      "[100, 82, 65, 50, 23]\n"
     ]
    }
   ],
   "source": [
    "# To sort descending, use the keyword argument reverse = True\n",
    "food = ['pizza', 'biryani', 'zinger', 'juice']\n",
    "food.sort(reverse = True)\n",
    "print(food)\n",
    "\n",
    "numeric_list = [100, 50, 65, 82, 23]\n",
    "numeric_list.sort(reverse=True)\n",
    "print(numeric_list)"
   ]
  },
  {
   "cell_type": "code",
   "execution_count": 73,
   "id": "896607f8",
   "metadata": {},
   "outputs": [
    {
     "name": "stdout",
     "output_type": "stream",
     "text": [
      "['biryani', 'juice', 'pizza', 'zinger']\n",
      "['Pizza', 'Zinger', 'biryani', 'juice']\n",
      "['biryani', 'juice', 'pizza', 'zinger']\n",
      "['juice', 'zinger', 'biryani', 'pizza']\n"
     ]
    }
   ],
   "source": [
    "# By default the sort() method is case sensitive, resulting in all capital letters being sorted before lower case letters\n",
    "\n",
    "food = ['pizza', 'biryani', 'zinger', 'juice']\n",
    "food.sort()\n",
    "print(food)\n",
    "\n",
    "food = ['Pizza', 'biryani', 'Zinger', 'juice']\n",
    "food.sort()\n",
    "print(food)\n",
    "\n",
    "food = ['pizza', 'biryani', 'zinger', 'juice']\n",
    "food.sort(key=str.lower)\n",
    "print(food)\n",
    "\n",
    "food = ['pizza', 'biryani', 'zinger', 'juice']\n",
    "food.reverse()\n",
    "print(food)\n"
   ]
  },
  {
   "cell_type": "markdown",
   "id": "94c1aad4",
   "metadata": {},
   "source": [
    "# Copy a List\n",
    "\n",
    "`You cannot copy a list simply by typing list2 = list1, because: list2 will only be a reference to list1, and changes made in list1 will automatically also be made in list2.`"
   ]
  },
  {
   "cell_type": "code",
   "execution_count": 82,
   "id": "2f25787a",
   "metadata": {},
   "outputs": [
    {
     "name": "stdout",
     "output_type": "stream",
     "text": [
      "[1, 2, 3, 4, 5, 6]\n",
      "[1, 2, 3, 4, 5, 6]\n",
      "2408503992960\n",
      "2408503992960\n",
      "2408503992960\n",
      "2408504219264\n",
      "['pizza', 'biryani', 'zinger', 'juice']\n"
     ]
    }
   ],
   "source": [
    "list1 = [1,2,3,4,5,6]\n",
    "list2 = list1\n",
    "print(list1)\n",
    "print(list2)\n",
    "\n",
    "print(id(list1))\n",
    "print(id(list2))\n",
    "\n",
    "list2 = list1.copy()\n",
    "print(id(list1))\n",
    "print(id(list2))\n",
    "\n",
    "food = ['pizza', 'biryani', 'zinger', 'juice']\n",
    "new_food = food.copy()\n",
    "print(new_food)"
   ]
  },
  {
   "cell_type": "code",
   "execution_count": 85,
   "id": "735ad5ea",
   "metadata": {},
   "outputs": [
    {
     "name": "stdout",
     "output_type": "stream",
     "text": [
      "[1, 3, 5]\n",
      "[2, 4, 6]\n"
     ]
    }
   ],
   "source": [
    "# Create 2 lists from a given list where \n",
    "# 1st list will contain all the odd numbers from the original list and\n",
    "# the 2nd one will contain all the even numbers \n",
    "\n",
    "L = [1,2,3,4,5,6]\n",
    "\n",
    "odd = [i for i in l if i%2!=0]\n",
    "print(odd)\n",
    "\n",
    "even = [i for i in l if i%2==0]\n",
    "print(even)"
   ]
  },
  {
   "cell_type": "code",
   "execution_count": 87,
   "id": "75580199",
   "metadata": {},
   "outputs": [
    {
     "name": "stdout",
     "output_type": "stream",
     "text": [
      "Enter you values1223\n",
      "['1', '2', '2', '3']\n"
     ]
    }
   ],
   "source": [
    "# How to take list as input from user\n",
    "\n",
    "list_input = list(input('Enter you values'))\n",
    "print(list_input)"
   ]
  },
  {
   "cell_type": "code",
   "execution_count": 89,
   "id": "ca53f51d",
   "metadata": {},
   "outputs": [
    {
     "name": "stdout",
     "output_type": "stream",
     "text": [
      "[1, 2, 3, 4, 5, 6, 7, 8]\n"
     ]
    }
   ],
   "source": [
    "# Write a program to merge 2 list without using the + operator\n",
    "L1 = [1,2,3,4]\n",
    "L2 = [5,6,7,8]\n",
    "L1.extend(L2)\n",
    "print(L1)"
   ]
  }
 ],
 "metadata": {
  "kernelspec": {
   "display_name": "Python 3 (ipykernel)",
   "language": "python",
   "name": "python3"
  },
  "language_info": {
   "codemirror_mode": {
    "name": "ipython",
    "version": 3
   },
   "file_extension": ".py",
   "mimetype": "text/x-python",
   "name": "python",
   "nbconvert_exporter": "python",
   "pygments_lexer": "ipython3",
   "version": "3.9.12"
  }
 },
 "nbformat": 4,
 "nbformat_minor": 5
}
