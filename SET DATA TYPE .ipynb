{
 "cells": [
  {
   "cell_type": "markdown",
   "id": "20dac70a",
   "metadata": {},
   "source": [
    "# SET \n",
    "\n",
    "`Sets are used to store multiple items in a single variable.`\n",
    "\n",
    "`A set is an unordered collection of items.` \n",
    "\n",
    "`Every set element is unique (no duplicates) and must be immutable (cannot be changed).`\n",
    "\n",
    "`However, a set itself is mutable. We can add or remove items from it.`\n",
    "\n",
    "`Sets can also be used to perform mathematical set operations like union, intersection, symmetric difference, etc.`\n",
    "\n",
    "`Characterstics:`\n",
    "- Unordered\n",
    "- Mutable\n",
    "- No Duplicates\n",
    "- Can't contain mutable data types\n",
    "\n",
    "`Sets are written with curly brackets`\n",
    "\n",
    "# Unordered\n",
    "\n",
    "`Unordered means that the items in a set do not have a defined order.`\n",
    "\n",
    "`Set items can appear in a different order every time you use them, and cannot be referred to by index or key.`\n",
    "\n",
    "# Unchangeable\n",
    "\n",
    "`Set items are unchangeable, meaning that we cannot change the items after the set has been created.`\n",
    "\n",
    "`Once a set is created, you cannot change its items, but you can remove items and add new items.`\n",
    "\n",
    "# Duplicates Not Allowed\n",
    "\n",
    "`Sets cannot have two items with the same value.`\n"
   ]
  },
  {
   "cell_type": "code",
   "execution_count": 22,
   "id": "dca9ff5c",
   "metadata": {},
   "outputs": [
    {
     "name": "stdout",
     "output_type": "stream",
     "text": [
      "{'apple', 'cherry', 'banana'}\n",
      "{1, (1, 2, 3), 'hello', 4.5}\n",
      "{8, 9, 6, 7}\n",
      "{'apple', 'cherry', 'banana'}\n",
      "<class 'set'>\n",
      "{1, 2, 3, 4}\n",
      "{1, 2, (1, 2, 3), 4.3}\n",
      "{1, 2, 3}\n"
     ]
    }
   ],
   "source": [
    "# Creating set\n",
    "\n",
    "fruits = {\"apple\", \"banana\", \"cherry\"}\n",
    "\n",
    "print(fruits)\n",
    "\n",
    "colors = {'red','green','blue','orange'}\n",
    "\n",
    "colors\n",
    "\n",
    "type(colors)\n",
    "\n",
    "# s1 = {1,2,3,{4,5}}\n",
    "\n",
    "s1 = {1,'hello',4.5,(1,2,3),True}\n",
    "\n",
    "print(s1)\n",
    "\n",
    "\n",
    "s2 = set([9,8,7,6])\n",
    "\n",
    "print(s2)\n",
    "\n",
    "set1 = set((\"apple\", \"banana\", \"cherry\"))\n",
    "print(set1)\n",
    "print(type(set1))\n",
    "\n",
    "# Homogeneous set\n",
    "\n",
    "s = {1,2,3,4}\n",
    "\n",
    "print(s)\n",
    "\n",
    "# Hetrogeneous set\n",
    "\n",
    "# s1 = {1,2,2,True,(1,2,3),4.3}\n",
    "\n",
    "s1 = {1,2,True,(1,2,3),4.3}\n",
    "\n",
    "print(s1)\n",
    "\n",
    "# duplicates not allowed\n",
    "\n",
    "s2 = {1,1,2,2,3,3}\n",
    "\n",
    "print(s2)\n",
    "\n",
    "# set can't have mutable items\n",
    "\n",
    "# s3 = {1,2,[3,4]}\n",
    "\n",
    "# print(s3)\n"
   ]
  },
  {
   "cell_type": "markdown",
   "id": "7d323786",
   "metadata": {},
   "source": [
    "# Access Items\n",
    "\n",
    "`we cannot access items in a set by referring to an index or a key`"
   ]
  },
  {
   "cell_type": "code",
   "execution_count": 27,
   "id": "2cfeaca4",
   "metadata": {},
   "outputs": [
    {
     "name": "stdout",
     "output_type": "stream",
     "text": [
      "True\n",
      "True\n",
      "False\n"
     ]
    }
   ],
   "source": [
    "s1 = {1,2,3}\n",
    "s2 = {3,2,1}\n",
    "\n",
    "print(s1 == s2)\n",
    "\n",
    "# s1 = {1,2,3,4}\n",
    "# s1[0:3]\n",
    "\n",
    "\n",
    "color = {'red', 'blue', 'yellow'}\n",
    "\n",
    "print('blue' in color)\n",
    "\n",
    "color = {'red', 'blue', 'yellow'}\n",
    "\n",
    "print('blue' not in color)"
   ]
  },
  {
   "cell_type": "markdown",
   "id": "f14f1377",
   "metadata": {},
   "source": [
    "# adding items\n",
    "\n",
    "`Once a set is created, you cannot change its items, but you can add new items`\n",
    "\n"
   ]
  },
  {
   "cell_type": "code",
   "execution_count": 41,
   "id": "01d4c88c",
   "metadata": {},
   "outputs": [
    {
     "name": "stdout",
     "output_type": "stream",
     "text": [
      "{'green', 'red', 'blue', 'yellow'}\n",
      "{'green', 'blue', 'grey', 'yellow', 'red'}\n",
      "{1, 2, 3, 4, 5, 6}\n",
      "{1, 2, 3, 4, 5, 6}\n",
      "{1, 2, 3, 4, 5, 6}\n",
      "{'cherry', 'kiwi', 'apple', 'banana', 'orange'}\n"
     ]
    }
   ],
   "source": [
    "# To add one item to a set use the add() method\n",
    "\n",
    "color = {'red', 'blue', 'yellow'}\n",
    "\n",
    "color.add('green')\n",
    "print(color)\n",
    "\n",
    "color.add('grey')\n",
    "print(color)\n",
    "\n",
    "s = {1,2,3}\n",
    "st = {4,5,6}\n",
    "s.update(st)\n",
    "print(s)\n",
    "\n",
    "s = {1,2,3}\n",
    "st = (4,5,6)\n",
    "s.update(st)\n",
    "print(s)\n",
    "\n",
    "s = {1,2,3}\n",
    "st = [4,5,6]\n",
    "s.update(st)\n",
    "print(s)\n",
    "\n",
    "\n",
    "myset = {\"apple\", \"banana\", \"cherry\"}\n",
    "mylist = [\"kiwi\", \"orange\"]\n",
    "\n",
    "myset.update(mylist)\n",
    "\n",
    "print(thisset)"
   ]
  },
  {
   "cell_type": "markdown",
   "id": "29d02756",
   "metadata": {},
   "source": [
    "# Remove Item\n",
    "\n"
   ]
  },
  {
   "cell_type": "code",
   "execution_count": 48,
   "id": "c0d663bc",
   "metadata": {},
   "outputs": [
    {
     "name": "stdout",
     "output_type": "stream",
     "text": [
      "{'red', 'yellow'}\n",
      "{'red', 'blue'}\n",
      "{2, 3, 4, 5}\n",
      "{'blue', 'yellow'}\n"
     ]
    }
   ],
   "source": [
    "# remove()\n",
    "# To remove an item in a set, use the remove(), or the discard() method\n",
    "\n",
    "color = {'red', 'blue', 'yellow'}\n",
    "\n",
    "color.remove('blue')\n",
    "print(color)\n",
    "\n",
    "# discard()\n",
    "\n",
    "color = {'red', 'blue', 'yellow'}\n",
    "\n",
    "color.discard('yellow')\n",
    "print(color)\n",
    "\n",
    "# pop\n",
    "# You can also use the pop() method to remove an item\n",
    "# but this method will remove a random item \n",
    "# so you cannot be sure what item that gets removed.\n",
    "\n",
    "s = {1,2,3,4,5}\n",
    "\n",
    "s.pop()\n",
    "print(s)\n",
    "\n",
    "color = {'red', 'blue', 'yellow'}\n",
    "\n",
    "color.pop()\n",
    "print(color)\n",
    "\n",
    "# del\n",
    "# The del keyword will delete the set completely\n",
    "\n",
    "color = {'red', 'blue', 'yellow'}\n",
    "\n",
    "del color\n",
    "print(color)"
   ]
  },
  {
   "cell_type": "markdown",
   "id": "65e47884",
   "metadata": {},
   "source": [
    "# Loop Sets"
   ]
  },
  {
   "cell_type": "code",
   "execution_count": 50,
   "id": "3630e7a9",
   "metadata": {},
   "outputs": [
    {
     "name": "stdout",
     "output_type": "stream",
     "text": [
      "red\n",
      "blue\n",
      "yellow\n",
      "3\n"
     ]
    }
   ],
   "source": [
    "color = {'red', 'blue', 'yellow'}\n",
    "\n",
    "for i in color:\n",
    "    print(i)\n",
    "\n",
    "print(len(color))"
   ]
  },
  {
   "cell_type": "markdown",
   "id": "a768e26f",
   "metadata": {},
   "source": [
    "# Join Sets\n"
   ]
  },
  {
   "cell_type": "code",
   "execution_count": 58,
   "id": "8ccb0652",
   "metadata": {},
   "outputs": [
    {
     "name": "stdout",
     "output_type": "stream",
     "text": [
      "{'a', 1, 'c', 2, 3, 'b'}\n",
      "{1, 2, 3, 4, 5, 7, 8, 9}\n",
      "{1, 2, 3, 4, 5, 'blue', 7, 8, 9, 'yellow', 'red'}\n",
      "{1, 'c', 2, 3, 'b', 'a'}\n"
     ]
    }
   ],
   "source": [
    "# union()\n",
    "# The union() and update() methods joins all items from both sets.\n",
    "# The union() method returns a new set with all items from both sets.\n",
    "\n",
    "set1 = {\"a\", \"b\", \"c\"}\n",
    "set2 = {1, 2, 3}\n",
    "\n",
    "set3 = set1.union(set2)\n",
    "print(set3)\n",
    "\n",
    "s = {1,2,3,4,5}\n",
    "s1 = {9,8,7,2}\n",
    "\n",
    "s2 = s.union(s1)\n",
    "print(s2)\n",
    "\n",
    "# join multiple set\n",
    "color = {'red', 'blue', 'yellow'}\n",
    "myset = s.union(s1,color)\n",
    "\n",
    "print(myset)\n",
    "\n",
    "# Join a set with a tuple\n",
    "x = {\"a\", \"b\", \"c\"}\n",
    "y = (1, 2, 3)\n",
    "\n",
    "z = x.union(y)\n",
    "print(z)"
   ]
  },
  {
   "cell_type": "code",
   "execution_count": 60,
   "id": "a50c02a9",
   "metadata": {},
   "outputs": [
    {
     "name": "stdout",
     "output_type": "stream",
     "text": [
      "{2, 4, 5}\n"
     ]
    }
   ],
   "source": [
    "# Intersection\n",
    "# The intersection() method will return a new set\n",
    "# that only contains the items that are present in both sets\n",
    "\n",
    "s ={1,2,3,4,5}\n",
    "s1 ={2,4,5,6}\n",
    "\n",
    "new_s = s.intersection(s1)\n",
    "print(new_s)"
   ]
  },
  {
   "cell_type": "code",
   "execution_count": 66,
   "id": "b8e296e1",
   "metadata": {},
   "outputs": [
    {
     "name": "stdout",
     "output_type": "stream",
     "text": [
      "{1, 3, 5}\n",
      "{8, 9}\n"
     ]
    }
   ],
   "source": [
    "# Difference\n",
    "# The difference() method will return a new set \n",
    "# that will contain only the items \n",
    "# from the first set that are not present in the other set.\n",
    "\n",
    "s = {1,2,3,7,5}\n",
    "s1 = {9,8,7,2}\n",
    "\n",
    "s2 = s.difference(s1)\n",
    "print(s2)\n",
    "\n",
    "s = {1,2,3,7,5}\n",
    "s1 = {9,8,7,2}\n",
    "\n",
    "s2 = s1.difference(s)\n",
    "print(s2)"
   ]
  },
  {
   "cell_type": "code",
   "execution_count": 68,
   "id": "55bfbd1a",
   "metadata": {},
   "outputs": [
    {
     "name": "stdout",
     "output_type": "stream",
     "text": [
      "{1, 3, 5, 8, 9}\n"
     ]
    }
   ],
   "source": [
    "# Symmetric Differences\n",
    "# The symmetric_difference() method will keep only the elements \n",
    "# that are NOT present in both sets.\n",
    "\n",
    "s = {1,2,3,7,5}\n",
    "s1 = {9,8,7,2}\n",
    "\n",
    "s2 = s.symmetric_difference(s1)\n",
    "print(s2)"
   ]
  },
  {
   "cell_type": "code",
   "execution_count": 69,
   "id": "d734590e",
   "metadata": {},
   "outputs": [
    {
     "data": {
      "text/plain": [
       "[7, 5, 4, 3, 2, 1]"
      ]
     },
     "execution_count": 69,
     "metadata": {},
     "output_type": "execute_result"
    }
   ],
   "source": [
    "# len/sum/min/max/sorted\n",
    "s = {3,1,4,5,2,7}\n",
    "len(s)\n",
    "sum(s)\n",
    "min(s)\n",
    "max(s)\n",
    "sorted(s,reverse=True)"
   ]
  }
 ],
 "metadata": {
  "kernelspec": {
   "display_name": "Python 3 (ipykernel)",
   "language": "python",
   "name": "python3"
  },
  "language_info": {
   "codemirror_mode": {
    "name": "ipython",
    "version": 3
   },
   "file_extension": ".py",
   "mimetype": "text/x-python",
   "name": "python",
   "nbconvert_exporter": "python",
   "pygments_lexer": "ipython3",
   "version": "3.9.12"
  }
 },
 "nbformat": 4,
 "nbformat_minor": 5
}
